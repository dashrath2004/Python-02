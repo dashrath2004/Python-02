{
 "cells": [
  {
   "cell_type": "code",
   "execution_count": 1,
   "id": "3a5ba51f-05be-46bc-96a3-d9c082dd5c22",
   "metadata": {},
   "outputs": [],
   "source": [
    "d = {}"
   ]
  },
  {
   "cell_type": "code",
   "execution_count": 2,
   "id": "69451aba-74df-4622-82f5-06b19ae73b63",
   "metadata": {},
   "outputs": [
    {
     "data": {
      "text/plain": [
       "dict"
      ]
     },
     "execution_count": 2,
     "metadata": {},
     "output_type": "execute_result"
    }
   ],
   "source": [
    "type(d)"
   ]
  },
  {
   "cell_type": "code",
   "execution_count": 3,
   "id": "bcde7b06-fa09-43fc-802b-a9b93f7ddfce",
   "metadata": {},
   "outputs": [],
   "source": [
    "d1 = {'key' : \"sudh\"}"
   ]
  },
  {
   "cell_type": "code",
   "execution_count": 4,
   "id": "321bd027-c689-4ff4-a743-edb779f247ce",
   "metadata": {},
   "outputs": [
    {
     "data": {
      "text/plain": [
       "{'key': 'sudh'}"
      ]
     },
     "execution_count": 4,
     "metadata": {},
     "output_type": "execute_result"
    }
   ],
   "source": [
    "d1"
   ]
  },
  {
   "cell_type": "code",
   "execution_count": 5,
   "id": "358da91e-a377-4f5d-8793-7c08f26f99e0",
   "metadata": {},
   "outputs": [],
   "source": [
    "d2 = {'name' : \"monu\" , 'email' : \"ds05102000@\" , 'number' : 6262625626}"
   ]
  },
  {
   "cell_type": "code",
   "execution_count": 7,
   "id": "5f334f34-0bd4-4419-be57-63e32f4382d6",
   "metadata": {},
   "outputs": [
    {
     "data": {
      "text/plain": [
       "{'name': 'monu', 'email': 'ds05102000@', 'number': 6262625626}"
      ]
     },
     "execution_count": 7,
     "metadata": {},
     "output_type": "execute_result"
    }
   ],
   "source": [
    "d2"
   ]
  },
  {
   "cell_type": "code",
   "execution_count": 10,
   "id": "94cf5532-3cac-453d-b0ea-048299b7f099",
   "metadata": {},
   "outputs": [
    {
     "ename": "SyntaxError",
     "evalue": "invalid syntax (2010697049.py, line 1)",
     "output_type": "error",
     "traceback": [
      "\u001b[0;36m  Cell \u001b[0;32mIn[10], line 1\u001b[0;36m\u001b[0m\n\u001b[0;31m    d3 = {3454 : 'sudh' , @jdhf : 'singh' , True : 5858}\u001b[0m\n\u001b[0m                          ^\u001b[0m\n\u001b[0;31mSyntaxError\u001b[0m\u001b[0;31m:\u001b[0m invalid syntax\n"
     ]
    }
   ],
   "source": [
    "d3 = {3454 : 'sudh' , @jdhf : 'singh' , True : 5858}"
   ]
  },
  {
   "cell_type": "code",
   "execution_count": 13,
   "id": "2c43f0e7-7312-4b05-aa0c-97b496502353",
   "metadata": {},
   "outputs": [],
   "source": [
    "d4 = {3454 : 'sudh' ,' @jdhf' : 'singh' , True : 5858}"
   ]
  },
  {
   "cell_type": "code",
   "execution_count": 14,
   "id": "e0d47684-2b37-4300-9224-9ce26ad5043e",
   "metadata": {},
   "outputs": [
    {
     "data": {
      "text/plain": [
       "{3454: 'sudh', ' @jdhf': 'singh', True: 5858}"
      ]
     },
     "execution_count": 14,
     "metadata": {},
     "output_type": "execute_result"
    }
   ],
   "source": [
    "d4"
   ]
  },
  {
   "cell_type": "raw",
   "id": "b06c3a6b-0e32-4baa-aa21-1cc91695d373",
   "metadata": {},
   "source": [
    "Always Type A Secial Character In String In The Case Of dict"
   ]
  },
  {
   "cell_type": "code",
   "execution_count": 16,
   "id": "8db0ff9d-e8ef-460f-a8e7-7a04714166d7",
   "metadata": {},
   "outputs": [
    {
     "data": {
      "text/plain": [
       "'sudh'"
      ]
     },
     "execution_count": 16,
     "metadata": {},
     "output_type": "execute_result"
    }
   ],
   "source": [
    "d4[3454]"
   ]
  },
  {
   "cell_type": "code",
   "execution_count": 17,
   "id": "2fac6579-70c8-4ed0-b218-ea0ee0c74436",
   "metadata": {},
   "outputs": [
    {
     "data": {
      "text/plain": [
       "5858"
      ]
     },
     "execution_count": 17,
     "metadata": {},
     "output_type": "execute_result"
    }
   ],
   "source": [
    "d4[True]"
   ]
  },
  {
   "cell_type": "code",
   "execution_count": 19,
   "id": "a9905ba5-74ae-42ee-9cf4-8ca401b7842e",
   "metadata": {},
   "outputs": [
    {
     "data": {
      "text/plain": [
       "5858"
      ]
     },
     "execution_count": 19,
     "metadata": {},
     "output_type": "execute_result"
    }
   ],
   "source": [
    "d4[1]"
   ]
  },
  {
   "cell_type": "raw",
   "id": "4c0b3227-61c9-4fa8-aac7-552b540ad8e5",
   "metadata": {},
   "source": [
    "True means 1"
   ]
  },
  {
   "cell_type": "code",
   "execution_count": 20,
   "id": "7a88c578-9157-44da-8d44-842621807f19",
   "metadata": {},
   "outputs": [],
   "source": [
    "d5 = {\"name\" : \"dashrath singh\" , \"email\" : \"ds78362000@\" , \"name\" : \"Banna Dsr\"}"
   ]
  },
  {
   "cell_type": "code",
   "execution_count": 22,
   "id": "f330f690-d88a-45e0-afd5-ca223b188672",
   "metadata": {},
   "outputs": [
    {
     "data": {
      "text/plain": [
       "'Banna Dsr'"
      ]
     },
     "execution_count": 22,
     "metadata": {},
     "output_type": "execute_result"
    }
   ],
   "source": [
    "d5[\"name\"]"
   ]
  },
  {
   "cell_type": "raw",
   "id": "8a9f3320-d959-4520-99ff-62d4af0dadbc",
   "metadata": {},
   "source": [
    "Python Always Take A New Code"
   ]
  },
  {
   "cell_type": "code",
   "execution_count": 34,
   "id": "17b9499d-3c7a-42b1-9001-17112a98d35c",
   "metadata": {},
   "outputs": [],
   "source": [
    "d6 = {'company' : \"Dsr limited\" , 'Course' :[\"financial knowledge\" , \"tally prime\" , \"data science\"]}"
   ]
  },
  {
   "cell_type": "code",
   "execution_count": 35,
   "id": "a1794a49-11f5-47f9-838c-fbcd0c74e07a",
   "metadata": {},
   "outputs": [
    {
     "data": {
      "text/plain": [
       "{'company': 'Dsr limited',\n",
       " 'Course': ['financial knowledge', 'tally prime', 'data science']}"
      ]
     },
     "execution_count": 35,
     "metadata": {},
     "output_type": "execute_result"
    }
   ],
   "source": [
    "d6"
   ]
  },
  {
   "cell_type": "code",
   "execution_count": 37,
   "id": "e99b6ee0-fe41-44e1-b0b5-995bbf09ad2e",
   "metadata": {},
   "outputs": [],
   "source": [
    "d7 = {'company' : \"pwskills\" , 'course' : [\"web dev\" , \"data science\" , \"java\"]}"
   ]
  },
  {
   "cell_type": "code",
   "execution_count": 38,
   "id": "665d5886-4f63-4e78-9516-fc0053e369fb",
   "metadata": {},
   "outputs": [
    {
     "data": {
      "text/plain": [
       "{'company': 'pwskills', 'course': ['web dev', 'data science', 'java']}"
      ]
     },
     "execution_count": 38,
     "metadata": {},
     "output_type": "execute_result"
    }
   ],
   "source": [
    "d7"
   ]
  },
  {
   "cell_type": "code",
   "execution_count": 39,
   "id": "fad67fc5-20fa-4013-8c59-44343f83e642",
   "metadata": {},
   "outputs": [
    {
     "data": {
      "text/plain": [
       "['web dev', 'data science', 'java']"
      ]
     },
     "execution_count": 39,
     "metadata": {},
     "output_type": "execute_result"
    }
   ],
   "source": [
    "d7['course']"
   ]
  },
  {
   "cell_type": "code",
   "execution_count": 40,
   "id": "8d31147f-4c62-4668-9fa9-62761e52306a",
   "metadata": {},
   "outputs": [
    {
     "data": {
      "text/plain": [
       "'data science'"
      ]
     },
     "execution_count": 40,
     "metadata": {},
     "output_type": "execute_result"
    }
   ],
   "source": [
    "d7['course'][1]"
   ]
  },
  {
   "cell_type": "code",
   "execution_count": 41,
   "id": "65dd90af-61e3-49d0-be9a-0e26d804b4be",
   "metadata": {},
   "outputs": [],
   "source": [
    "d8= {\"number\" : [2,34,3,34,34],\"assignment\":(1,2,3,4,5,6) , \"launch_date\":{28,12,14} ,\"class_time\":{\"web_dev\": 8 , \"Data science masters\" : 8 , \"java with dsa and system design\":7}}"
   ]
  },
  {
   "cell_type": "code",
   "execution_count": 42,
   "id": "e7382be8-4c92-42a7-a359-1bb6918dc3f2",
   "metadata": {},
   "outputs": [
    {
     "data": {
      "text/plain": [
       "{'number': [2, 34, 3, 34, 34],\n",
       " 'assignment': (1, 2, 3, 4, 5, 6),\n",
       " 'launch_date': {12, 14, 28},\n",
       " 'class_time': {'web_dev': 8,\n",
       "  'Data science masters': 8,\n",
       "  'java with dsa and system design': 7}}"
      ]
     },
     "execution_count": 42,
     "metadata": {},
     "output_type": "execute_result"
    }
   ],
   "source": [
    "d8"
   ]
  },
  {
   "cell_type": "code",
   "execution_count": 44,
   "id": "6f4b0d6b-ee63-40c2-92f3-0dc0ff0b30ad",
   "metadata": {},
   "outputs": [
    {
     "data": {
      "text/plain": [
       "7"
      ]
     },
     "execution_count": 44,
     "metadata": {},
     "output_type": "execute_result"
    }
   ],
   "source": [
    "d8['class_time']['java with dsa and system design']"
   ]
  },
  {
   "cell_type": "code",
   "execution_count": 45,
   "id": "f71adebc-c4e0-4fac-94c1-8418b5cf9e6b",
   "metadata": {},
   "outputs": [
    {
     "data": {
      "text/plain": [
       "8"
      ]
     },
     "execution_count": 45,
     "metadata": {},
     "output_type": "execute_result"
    }
   ],
   "source": [
    "d8['class_time']['Data science masters']"
   ]
  },
  {
   "cell_type": "code",
   "execution_count": 46,
   "id": "f59419b4-da24-453c-b804-8e80ac8b44db",
   "metadata": {},
   "outputs": [
    {
     "data": {
      "text/plain": [
       "{'number': [2, 34, 3, 34, 34],\n",
       " 'assignment': (1, 2, 3, 4, 5, 6),\n",
       " 'launch_date': {12, 14, 28},\n",
       " 'class_time': {'web_dev': 8,\n",
       "  'Data science masters': 8,\n",
       "  'java with dsa and system design': 7}}"
      ]
     },
     "execution_count": 46,
     "metadata": {},
     "output_type": "execute_result"
    }
   ],
   "source": [
    "d8"
   ]
  },
  {
   "cell_type": "code",
   "execution_count": 47,
   "id": "dcbafe03-56c6-45b3-b8a7-6b80275384e8",
   "metadata": {},
   "outputs": [],
   "source": [
    "d8['mentor'] = ['shudhanshu kumar' , 'krish']"
   ]
  },
  {
   "cell_type": "code",
   "execution_count": 48,
   "id": "72d0c255-0eaa-497e-b49c-f8dd09f37193",
   "metadata": {},
   "outputs": [
    {
     "data": {
      "text/plain": [
       "{'number': [2, 34, 3, 34, 34],\n",
       " 'assignment': (1, 2, 3, 4, 5, 6),\n",
       " 'launch_date': {12, 14, 28},\n",
       " 'class_time': {'web_dev': 8,\n",
       "  'Data science masters': 8,\n",
       "  'java with dsa and system design': 7},\n",
       " 'mentor': ['shudhanshu kumar', 'krish']}"
      ]
     },
     "execution_count": 48,
     "metadata": {},
     "output_type": "execute_result"
    }
   ],
   "source": [
    "d8"
   ]
  },
  {
   "cell_type": "code",
   "execution_count": 50,
   "id": "123fddd8-6c63-4df0-bf93-7df9752b2c3e",
   "metadata": {},
   "outputs": [],
   "source": [
    "del d8['launch_date']"
   ]
  },
  {
   "cell_type": "code",
   "execution_count": 51,
   "id": "d9ab5c1e-d382-4bc3-aee3-a32191340319",
   "metadata": {},
   "outputs": [
    {
     "data": {
      "text/plain": [
       "{'number': [2, 34, 3, 34, 34],\n",
       " 'assignment': (1, 2, 3, 4, 5, 6),\n",
       " 'class_time': {'web_dev': 8,\n",
       "  'Data science masters': 8,\n",
       "  'java with dsa and system design': 7},\n",
       " 'mentor': ['shudhanshu kumar', 'krish']}"
      ]
     },
     "execution_count": 51,
     "metadata": {},
     "output_type": "execute_result"
    }
   ],
   "source": [
    "d8"
   ]
  },
  {
   "cell_type": "code",
   "execution_count": 54,
   "id": "13f3ed68-ff4d-44c4-9457-93f388eb8060",
   "metadata": {},
   "outputs": [
    {
     "data": {
      "text/plain": [
       "dict_keys(['number', 'assignment', 'class_time', 'mentor'])"
      ]
     },
     "execution_count": 54,
     "metadata": {},
     "output_type": "execute_result"
    }
   ],
   "source": [
    "d8.keys()"
   ]
  },
  {
   "cell_type": "code",
   "execution_count": 56,
   "id": "8701d3da-afca-4efd-87a6-277d2dbbca2e",
   "metadata": {},
   "outputs": [
    {
     "data": {
      "text/plain": [
       "['number', 'assignment', 'class_time', 'mentor']"
      ]
     },
     "execution_count": 56,
     "metadata": {},
     "output_type": "execute_result"
    }
   ],
   "source": [
    "list(d8.keys())"
   ]
  },
  {
   "cell_type": "code",
   "execution_count": 57,
   "id": "7d548217-d190-44f0-84e4-b5d869548d7e",
   "metadata": {},
   "outputs": [
    {
     "data": {
      "text/plain": [
       "dict_values([[2, 34, 3, 34, 34], (1, 2, 3, 4, 5, 6), {'web_dev': 8, 'Data science masters': 8, 'java with dsa and system design': 7}, ['shudhanshu kumar', 'krish']])"
      ]
     },
     "execution_count": 57,
     "metadata": {},
     "output_type": "execute_result"
    }
   ],
   "source": [
    "d8.values()"
   ]
  },
  {
   "cell_type": "code",
   "execution_count": 58,
   "id": "8cf46b63-fb91-480a-9275-e5d10be66db2",
   "metadata": {},
   "outputs": [
    {
     "data": {
      "text/plain": [
       "[[2, 34, 3, 34, 34],\n",
       " (1, 2, 3, 4, 5, 6),\n",
       " {'web_dev': 8,\n",
       "  'Data science masters': 8,\n",
       "  'java with dsa and system design': 7},\n",
       " ['shudhanshu kumar', 'krish']]"
      ]
     },
     "execution_count": 58,
     "metadata": {},
     "output_type": "execute_result"
    }
   ],
   "source": [
    "list(d8.values())"
   ]
  },
  {
   "cell_type": "code",
   "execution_count": 59,
   "id": "d0e30eee-3901-4220-9b45-8d19a9c69f31",
   "metadata": {},
   "outputs": [
    {
     "data": {
      "text/plain": [
       "dict_items([('number', [2, 34, 3, 34, 34]), ('assignment', (1, 2, 3, 4, 5, 6)), ('class_time', {'web_dev': 8, 'Data science masters': 8, 'java with dsa and system design': 7}), ('mentor', ['shudhanshu kumar', 'krish'])])"
      ]
     },
     "execution_count": 59,
     "metadata": {},
     "output_type": "execute_result"
    }
   ],
   "source": [
    "d8.items()"
   ]
  },
  {
   "cell_type": "code",
   "execution_count": 60,
   "id": "11edf384-2ccf-4060-a116-6f9c603f485c",
   "metadata": {},
   "outputs": [
    {
     "data": {
      "text/plain": [
       "[('number', [2, 34, 3, 34, 34]),\n",
       " ('assignment', (1, 2, 3, 4, 5, 6)),\n",
       " ('class_time',\n",
       "  {'web_dev': 8,\n",
       "   'Data science masters': 8,\n",
       "   'java with dsa and system design': 7}),\n",
       " ('mentor', ['shudhanshu kumar', 'krish'])]"
      ]
     },
     "execution_count": 60,
     "metadata": {},
     "output_type": "execute_result"
    }
   ],
   "source": [
    "list(d8.items())"
   ]
  },
  {
   "cell_type": "code",
   "execution_count": 3,
   "id": "38a2fb90-bb77-4bda-be7d-c2ce6e081159",
   "metadata": {},
   "outputs": [],
   "source": [
    "d8 = {'number': [2, 34, 3, 34, 34],\n",
    " 'assignment': (1, 2, 3, 4, 5, 6),\n",
    " 'launch_date': {12, 14, 28},\n",
    " 'class_time': {'web_dev': 8,\n",
    "  'Data science masters': 8,\n",
    "  'java with dsa and system design': 7},\n",
    " 'mentor': ['shudhanshu kumar', 'krish']}"
   ]
  },
  {
   "cell_type": "code",
   "execution_count": 4,
   "id": "4cf2ec3b-c1fa-4548-bc1b-5aecaca9d4ad",
   "metadata": {},
   "outputs": [
    {
     "data": {
      "text/plain": [
       "{'number': [2, 34, 3, 34, 34],\n",
       " 'assignment': (1, 2, 3, 4, 5, 6),\n",
       " 'launch_date': {12, 14, 28},\n",
       " 'class_time': {'web_dev': 8,\n",
       "  'Data science masters': 8,\n",
       "  'java with dsa and system design': 7},\n",
       " 'mentor': ['shudhanshu kumar', 'krish']}"
      ]
     },
     "execution_count": 4,
     "metadata": {},
     "output_type": "execute_result"
    }
   ],
   "source": [
    "d8"
   ]
  },
  {
   "cell_type": "code",
   "execution_count": 5,
   "id": "e396e170-2d49-4ff3-a0c7-e32f67598667",
   "metadata": {},
   "outputs": [
    {
     "data": {
      "text/plain": [
       "(1, 2, 3, 4, 5, 6)"
      ]
     },
     "execution_count": 5,
     "metadata": {},
     "output_type": "execute_result"
    }
   ],
   "source": [
    "d8.pop('assignment')"
   ]
  },
  {
   "cell_type": "code",
   "execution_count": 7,
   "id": "4933d111-8dde-4527-86d3-443c857145fb",
   "metadata": {},
   "outputs": [
    {
     "ename": "TypeError",
     "evalue": "pop expected at least 1 argument, got 0",
     "output_type": "error",
     "traceback": [
      "\u001b[0;31m---------------------------------------------------------------------------\u001b[0m",
      "\u001b[0;31mTypeError\u001b[0m                                 Traceback (most recent call last)",
      "Cell \u001b[0;32mIn[7], line 1\u001b[0m\n\u001b[0;32m----> 1\u001b[0m \u001b[43md8\u001b[49m\u001b[38;5;241;43m.\u001b[39;49m\u001b[43mpop\u001b[49m\u001b[43m(\u001b[49m\u001b[43m)\u001b[49m\n",
      "\u001b[0;31mTypeError\u001b[0m: pop expected at least 1 argument, got 0"
     ]
    }
   ],
   "source": [
    "d8.pop()"
   ]
  },
  {
   "cell_type": "code",
   "execution_count": 11,
   "id": "733caeb0-3292-4096-ae54-9e5ce744ece9",
   "metadata": {},
   "outputs": [
    {
     "name": "stdout",
     "output_type": "stream",
     "text": [
      "you will be a part of A3 batch \n"
     ]
    }
   ],
   "source": [
    "marks = 20\n",
    "if marks >= 80:\n",
    "    print(\"you will be a part of A0 batch\")\n",
    "elif marks >= 60 and marks< 80:\n",
    "    print(\"you will be a part of A1 batch\")\n",
    "elif marks >= 40 and marks < 60 :\n",
    "    print(\"you will be a part of A2 batch \")\n",
    "else :\n",
    "    print(\"you will be a part of A3 batch \")\n",
    "    "
   ]
  },
  {
   "cell_type": "code",
   "execution_count": 1,
   "id": "e3535c80-f39b-4d3b-8714-6fc44a1d6b71",
   "metadata": {},
   "outputs": [
    {
     "name": "stdin",
     "output_type": "stream",
     "text": [
      "enter marks 100 \n"
     ]
    },
    {
     "name": "stdout",
     "output_type": "stream",
     "text": [
      "you will be a part of A0 batch\n"
     ]
    }
   ],
   "source": [
    "marks = int(input('enter marks'))\n",
    "if marks >= 80:\n",
    "    print(\"you will be a part of A0 batch\")\n",
    "elif marks >= 60 and marks< 80:\n",
    "    print(\"you will be a part of A1 batch\")\n",
    "elif marks >= 40 and marks < 60 :\n",
    "    print(\"you will be a part of A2 batch \")\n",
    "else :\n",
    "    print(\"you will be a part of A3 batch \")\n",
    "    "
   ]
  },
  {
   "cell_type": "code",
   "execution_count": 2,
   "id": "becffcfa-9ffd-4d62-a1c2-281a1ca08197",
   "metadata": {},
   "outputs": [
    {
     "name": "stdin",
     "output_type": "stream",
     "text": [
      "enter price  400\n"
     ]
    },
    {
     "name": "stdout",
     "output_type": "stream",
     "text": [
      "i will purchase\n"
     ]
    }
   ],
   "source": [
    "price = int(input(\"enter price \" ))\n",
    "if price > 1000:\n",
    "    print(\"i will not purchase\")\n",
    "else :\n",
    "    print(\"i will purchase\")"
   ]
  },
  {
   "cell_type": "code",
   "execution_count": 7,
   "id": "a8b6c99b-e07e-429c-a8fd-780e63f35d6b",
   "metadata": {},
   "outputs": [
    {
     "name": "stdin",
     "output_type": "stream",
     "text": [
      "enter price  300\n"
     ]
    },
    {
     "name": "stdout",
     "output_type": "stream",
     "text": [
      "i will purchase\n"
     ]
    }
   ],
   "source": [
    "price = int(input(\"enter price \" ))\n",
    "if price > 1000:\n",
    "    print(\"i will not purchase\")\n",
    "    if price >5000:\n",
    "        print(\"this is too much \")\n",
    "    elif price < 2000 : \n",
    "        print(\"its ok\")\n",
    "elif price < 1000 or price > 500 :\n",
    "    print(\"i will purchase\")\n",
    "else :\n",
    "    print(\"not interested \")"
   ]
  },
  {
   "cell_type": "code",
   "execution_count": 8,
   "id": "3fb16672-f065-4b6f-81d8-093f625a9b7a",
   "metadata": {},
   "outputs": [],
   "source": [
    "l = [1,2,3,4,5,6,7,8,9,]"
   ]
  },
  {
   "cell_type": "code",
   "execution_count": 11,
   "id": "081d7d8e-96a6-4c0d-824f-241e0dccb127",
   "metadata": {},
   "outputs": [
    {
     "name": "stdout",
     "output_type": "stream",
     "text": [
      "1\n",
      "2\n",
      "3\n",
      "4\n",
      "5\n",
      "6\n",
      "7\n",
      "8\n",
      "9\n"
     ]
    }
   ],
   "source": [
    "for i in l :\n",
    "    print(i)\n",
    "    "
   ]
  },
  {
   "cell_type": "code",
   "execution_count": 14,
   "id": "bff10a1e-e6cc-47a7-8a50-743e4c674e00",
   "metadata": {},
   "outputs": [
    {
     "name": "stdout",
     "output_type": "stream",
     "text": [
      "2\n",
      "3\n",
      "4\n",
      "5\n",
      "6\n",
      "7\n",
      "8\n",
      "9\n",
      "10\n"
     ]
    },
    {
     "data": {
      "text/plain": [
       "[2, 3, 4, 5, 6, 7, 8, 9, 10]"
      ]
     },
     "execution_count": 14,
     "metadata": {},
     "output_type": "execute_result"
    }
   ],
   "source": [
    "ll = []\n",
    "for i in l :\n",
    "    ll.append(i+1)\n",
    "    print(i+1)\n",
    "    \n",
    "ll\n",
    "    "
   ]
  },
  {
   "cell_type": "code",
   "execution_count": 15,
   "id": "c8872b23-858c-49d9-be34-9d3d5145a97a",
   "metadata": {},
   "outputs": [],
   "source": [
    "l1 = ['dashrath' , 'singh' , 'pwskills' , 'course']"
   ]
  },
  {
   "cell_type": "code",
   "execution_count": 16,
   "id": "db43bb27-5c45-4dc3-b04c-0d06d4bffd9e",
   "metadata": {},
   "outputs": [
    {
     "name": "stdout",
     "output_type": "stream",
     "text": [
      "dashrath\n",
      "singh\n",
      "pwskills\n",
      "course\n"
     ]
    }
   ],
   "source": [
    "l2 = []\n",
    "for i in l1 : \n",
    "    print(i)\n",
    "    l2.append(i.upper())"
   ]
  },
  {
   "cell_type": "code",
   "execution_count": 17,
   "id": "9857951c-ccf9-44fc-910f-4ee0c50b9efa",
   "metadata": {},
   "outputs": [
    {
     "data": {
      "text/plain": [
       "['DASHRATH', 'SINGH', 'PWSKILLS', 'COURSE']"
      ]
     },
     "execution_count": 17,
     "metadata": {},
     "output_type": "execute_result"
    }
   ],
   "source": [
    "l2"
   ]
  },
  {
   "cell_type": "code",
   "execution_count": 18,
   "id": "ad5ac49d-f44f-4d34-ae21-f0ed740ee640",
   "metadata": {},
   "outputs": [],
   "source": [
    "l = [1,2,3,4,4,\"sudh\" , \"kmumar\" , 324,34.456,\"abc\"]"
   ]
  },
  {
   "cell_type": "code",
   "execution_count": 19,
   "id": "718a7a65-3562-4b93-bb66-927beccd6a1f",
   "metadata": {},
   "outputs": [],
   "source": [
    "l1_num = []\n",
    "l2_str = []\n",
    "for i in l :\n",
    "    if type(i) == int or type(i) == float :\n",
    "        l1_num.append(i)\n",
    "    else :\n",
    "        l2_str.append(i)"
   ]
  },
  {
   "cell_type": "code",
   "execution_count": 20,
   "id": "096df70b-8a6b-4a0e-ab5a-5198bc351acd",
   "metadata": {},
   "outputs": [
    {
     "data": {
      "text/plain": [
       "[1, 2, 3, 4, 4, 324, 34.456]"
      ]
     },
     "execution_count": 20,
     "metadata": {},
     "output_type": "execute_result"
    }
   ],
   "source": [
    "l1_num"
   ]
  },
  {
   "cell_type": "code",
   "execution_count": 22,
   "id": "4f306740-488a-4249-824b-952f29b04e01",
   "metadata": {},
   "outputs": [
    {
     "data": {
      "text/plain": [
       "['sudh', 'kmumar', 'abc']"
      ]
     },
     "execution_count": 22,
     "metadata": {},
     "output_type": "execute_result"
    }
   ],
   "source": [
    "l2_str"
   ]
  },
  {
   "cell_type": "code",
   "execution_count": null,
   "id": "19f7f51b-f222-473d-b1bc-83e229446f7b",
   "metadata": {},
   "outputs": [],
   "source": []
  }
 ],
 "metadata": {
  "kernelspec": {
   "display_name": "Python 3 (ipykernel)",
   "language": "python",
   "name": "python3"
  },
  "language_info": {
   "codemirror_mode": {
    "name": "ipython",
    "version": 3
   },
   "file_extension": ".py",
   "mimetype": "text/x-python",
   "name": "python",
   "nbconvert_exporter": "python",
   "pygments_lexer": "ipython3",
   "version": "3.10.8"
  }
 },
 "nbformat": 4,
 "nbformat_minor": 5
}
