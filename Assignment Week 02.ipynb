{
 "cells": [
  {
   "cell_type": "markdown",
   "id": "0d0ab37d-1ac9-46d0-bbb4-950e4c9f8622",
   "metadata": {},
   "source": [
    "QUESTION 01"
   ]
  },
  {
   "cell_type": "markdown",
   "id": "7c4cab35-6b49-4792-9739-096287606c57",
   "metadata": {},
   "source": [
    "Hash Character Use For Comments in Python .There are three ways to write a comment - as a separate line, beside the corresponding statement of code, or as a multi-line comment block"
   ]
  },
  {
   "cell_type": "code",
   "execution_count": null,
   "id": "82ea2cb7-6586-402f-8204-52e604b42d2f",
   "metadata": {},
   "outputs": [],
   "source": []
  }
 ],
 "metadata": {
  "kernelspec": {
   "display_name": "Python 3 (ipykernel)",
   "language": "python",
   "name": "python3"
  },
  "language_info": {
   "codemirror_mode": {
    "name": "ipython",
    "version": 3
   },
   "file_extension": ".py",
   "mimetype": "text/x-python",
   "name": "python",
   "nbconvert_exporter": "python",
   "pygments_lexer": "ipython3",
   "version": "3.10.8"
  }
 },
 "nbformat": 4,
 "nbformat_minor": 5
}
