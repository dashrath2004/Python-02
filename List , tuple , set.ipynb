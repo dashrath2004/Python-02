{
 "cells": [
  {
   "cell_type": "markdown",
   "id": "b5831eff-de8d-450d-bbe9-98d6f20bee1c",
   "metadata": {},
   "source": [
    "ALL ABOUT LIST"
   ]
  },
  {
   "cell_type": "code",
   "execution_count": null,
   "id": "61715935-12e3-4ee0-b46c-bd9817ad9ea2",
   "metadata": {},
   "outputs": [],
   "source": [
    "l =[1,345,45,\"sudh\" ,True ,5+7j , 345.456] "
   ]
  },
  {
   "cell_type": "code",
   "execution_count": 2,
   "id": "3955dd93-65fc-4b23-90fe-71834d7c4212",
   "metadata": {},
   "outputs": [
    {
     "data": {
      "text/plain": [
       "list"
      ]
     },
     "execution_count": 2,
     "metadata": {},
     "output_type": "execute_result"
    }
   ],
   "source": [
    "type(l)"
   ]
  },
  {
   "cell_type": "markdown",
   "id": "d00e6645-be4b-4bdf-996d-194553e2a0fc",
   "metadata": {},
   "source": [
    "l[2]"
   ]
  },
  {
   "cell_type": "code",
   "execution_count": 6,
   "id": "d4f68ca2-34e8-4eb7-b52b-b56fa0670e21",
   "metadata": {},
   "outputs": [
    {
     "data": {
      "text/plain": [
       "[1, 345, 45]"
      ]
     },
     "execution_count": 6,
     "metadata": {},
     "output_type": "execute_result"
    }
   ],
   "source": [
    "l[:3]"
   ]
  },
  {
   "cell_type": "code",
   "execution_count": 7,
   "id": "2b448c44-36bc-4c9c-be62-bc4354a96ce3",
   "metadata": {},
   "outputs": [
    {
     "data": {
      "text/plain": [
       "345.456"
      ]
     },
     "execution_count": 7,
     "metadata": {},
     "output_type": "execute_result"
    }
   ],
   "source": [
    "l[-1]"
   ]
  },
  {
   "cell_type": "code",
   "execution_count": 8,
   "id": "1f58b97a-b7cb-42fc-aaaf-0c089e70a432",
   "metadata": {},
   "outputs": [
    {
     "data": {
      "text/plain": [
       "[345.456, (3+4j), True, 'sudh', 45, 345, 1]"
      ]
     },
     "execution_count": 8,
     "metadata": {},
     "output_type": "execute_result"
    }
   ],
   "source": [
    "l[::-1]"
   ]
  },
  {
   "cell_type": "code",
   "execution_count": 9,
   "id": "48126d11-bb15-4c47-bd67-629bf4259d06",
   "metadata": {},
   "outputs": [
    {
     "data": {
      "text/plain": [
       "[1, 45, True, 345.456]"
      ]
     },
     "execution_count": 9,
     "metadata": {},
     "output_type": "execute_result"
    }
   ],
   "source": [
    "l[::2]"
   ]
  },
  {
   "cell_type": "code",
   "execution_count": 11,
   "id": "9710a696-3b6b-46b1-a1e0-c6bfb048d689",
   "metadata": {},
   "outputs": [],
   "source": [
    "s = \"pwskills\""
   ]
  },
  {
   "cell_type": "code",
   "execution_count": 12,
   "id": "e8cec4dd-3e29-4218-8aed-3e06f2a19d85",
   "metadata": {},
   "outputs": [
    {
     "ename": "TypeError",
     "evalue": "can only concatenate list (not \"str\") to list",
     "output_type": "error",
     "traceback": [
      "\u001b[0;31m---------------------------------------------------------------------------\u001b[0m",
      "\u001b[0;31mTypeError\u001b[0m                                 Traceback (most recent call last)",
      "Cell \u001b[0;32mIn[12], line 1\u001b[0m\n\u001b[0;32m----> 1\u001b[0m \u001b[43ml\u001b[49m\u001b[43m \u001b[49m\u001b[38;5;241;43m+\u001b[39;49m\u001b[43m \u001b[49m\u001b[43ms\u001b[49m\n",
      "\u001b[0;31mTypeError\u001b[0m: can only concatenate list (not \"str\") to list"
     ]
    }
   ],
   "source": [
    "l + s"
   ]
  },
  {
   "cell_type": "code",
   "execution_count": 13,
   "id": "4000a2b3-5315-4c23-830d-30e6f0c5caa8",
   "metadata": {},
   "outputs": [
    {
     "data": {
      "text/plain": [
       "['p',\n",
       " 'w',\n",
       " 's',\n",
       " 'k',\n",
       " 'i',\n",
       " 'l',\n",
       " 'l',\n",
       " 's',\n",
       " 1,\n",
       " 345,\n",
       " 45,\n",
       " 'sudh',\n",
       " True,\n",
       " (3+4j),\n",
       " 345.456]"
      ]
     },
     "execution_count": 13,
     "metadata": {},
     "output_type": "execute_result"
    }
   ],
   "source": [
    "list(s) + l"
   ]
  },
  {
   "cell_type": "code",
   "execution_count": 14,
   "id": "476cbb4a-df33-4e7a-adbe-927e036840fc",
   "metadata": {},
   "outputs": [
    {
     "data": {
      "text/plain": [
       "[1, 345, 45, 'sudh', True, (3+4j), 345.456]"
      ]
     },
     "execution_count": 14,
     "metadata": {},
     "output_type": "execute_result"
    }
   ],
   "source": [
    "l"
   ]
  },
  {
   "cell_type": "code",
   "execution_count": 19,
   "id": "14426602-d8df-44bc-9b36-5d583421d733",
   "metadata": {},
   "outputs": [
    {
     "data": {
      "text/plain": [
       "'sudh'"
      ]
     },
     "execution_count": 19,
     "metadata": {},
     "output_type": "execute_result"
    }
   ],
   "source": [
    "l[3]"
   ]
  },
  {
   "cell_type": "code",
   "execution_count": 17,
   "id": "dc05830b-f238-4b78-9a81-26011a76b678",
   "metadata": {},
   "outputs": [
    {
     "data": {
      "text/plain": [
       "str"
      ]
     },
     "execution_count": 17,
     "metadata": {},
     "output_type": "execute_result"
    }
   ],
   "source": [
    "type(l[3])"
   ]
  },
  {
   "cell_type": "code",
   "execution_count": 18,
   "id": "88dcabc5-cfc7-4d0c-a350-c371a523ee2a",
   "metadata": {},
   "outputs": [
    {
     "data": {
      "text/plain": [
       "'su'"
      ]
     },
     "execution_count": 18,
     "metadata": {},
     "output_type": "execute_result"
    }
   ],
   "source": [
    "l[3][0:2]"
   ]
  },
  {
   "cell_type": "code",
   "execution_count": 21,
   "id": "ed8c40f4-0bb1-4685-9da1-f3f823855fc4",
   "metadata": {},
   "outputs": [
    {
     "data": {
      "text/plain": [
       "True"
      ]
     },
     "execution_count": 21,
     "metadata": {},
     "output_type": "execute_result"
    }
   ],
   "source": [
    "l[4]"
   ]
  },
  {
   "cell_type": "code",
   "execution_count": 22,
   "id": "e5d05422-aae4-4ee5-bc05-0579e9eb6a07",
   "metadata": {},
   "outputs": [
    {
     "data": {
      "text/plain": [
       "'Tru'"
      ]
     },
     "execution_count": 22,
     "metadata": {},
     "output_type": "execute_result"
    }
   ],
   "source": [
    "str(l[4])[0:3]"
   ]
  },
  {
   "cell_type": "code",
   "execution_count": 23,
   "id": "46fb3984-a4e8-4918-afe9-a0f49cc6dcef",
   "metadata": {},
   "outputs": [
    {
     "ename": "TypeError",
     "evalue": "can only concatenate list (not \"int\") to list",
     "output_type": "error",
     "traceback": [
      "\u001b[0;31m---------------------------------------------------------------------------\u001b[0m",
      "\u001b[0;31mTypeError\u001b[0m                                 Traceback (most recent call last)",
      "Cell \u001b[0;32mIn[23], line 1\u001b[0m\n\u001b[0;32m----> 1\u001b[0m \u001b[43ml\u001b[49m\u001b[43m \u001b[49m\u001b[38;5;241;43m+\u001b[39;49m\u001b[43m \u001b[49m\u001b[38;5;241;43m5\u001b[39;49m\n",
      "\u001b[0;31mTypeError\u001b[0m: can only concatenate list (not \"int\") to list"
     ]
    }
   ],
   "source": [
    "l + 5"
   ]
  },
  {
   "cell_type": "code",
   "execution_count": 24,
   "id": "56aa0d4b-84cf-4afd-9998-2b5cd2282b24",
   "metadata": {},
   "outputs": [],
   "source": [
    "ll = [3,4,5,]"
   ]
  },
  {
   "cell_type": "code",
   "execution_count": 25,
   "id": "0e4c42c5-aa20-4e05-a9ea-e0529686af57",
   "metadata": {},
   "outputs": [
    {
     "data": {
      "text/plain": [
       "[1, 345, 45, 'sudh', True, (3+4j), 345.456, 3, 4, 5]"
      ]
     },
     "execution_count": 25,
     "metadata": {},
     "output_type": "execute_result"
    }
   ],
   "source": [
    "l + ll"
   ]
  },
  {
   "cell_type": "code",
   "execution_count": 26,
   "id": "e7e4ab73-a596-44e8-a464-75446f5a4215",
   "metadata": {},
   "outputs": [
    {
     "data": {
      "text/plain": [
       "[3, 4, 5, 3, 4, 5, 3, 4, 5]"
      ]
     },
     "execution_count": 26,
     "metadata": {},
     "output_type": "execute_result"
    }
   ],
   "source": [
    "ll*3"
   ]
  },
  {
   "cell_type": "code",
   "execution_count": 27,
   "id": "a72deac4-4856-4099-adce-688b57e31a86",
   "metadata": {},
   "outputs": [
    {
     "data": {
      "text/plain": [
       "[1, 345, 45, 'sudh', True, (3+4j), 345.456]"
      ]
     },
     "execution_count": 27,
     "metadata": {},
     "output_type": "execute_result"
    }
   ],
   "source": [
    "l"
   ]
  },
  {
   "cell_type": "code",
   "execution_count": 28,
   "id": "6c20c0c2-6428-46b4-85c0-ead0b3cf776b",
   "metadata": {},
   "outputs": [
    {
     "data": {
      "text/plain": [
       "7"
      ]
     },
     "execution_count": 28,
     "metadata": {},
     "output_type": "execute_result"
    }
   ],
   "source": [
    "len(l)"
   ]
  },
  {
   "cell_type": "code",
   "execution_count": 29,
   "id": "36ceb5ae-0a99-4f4e-a713-606f8230a91a",
   "metadata": {},
   "outputs": [],
   "source": [
    "l.append(5)"
   ]
  },
  {
   "cell_type": "code",
   "execution_count": 30,
   "id": "03344137-5299-4f51-a49d-172861372a86",
   "metadata": {},
   "outputs": [
    {
     "data": {
      "text/plain": [
       "[1, 345, 45, 'sudh', True, (3+4j), 345.456, 5]"
      ]
     },
     "execution_count": 30,
     "metadata": {},
     "output_type": "execute_result"
    }
   ],
   "source": [
    "l"
   ]
  },
  {
   "cell_type": "code",
   "execution_count": 31,
   "id": "593dcaf1-aad8-4222-b0bf-f098412384a3",
   "metadata": {},
   "outputs": [
    {
     "data": {
      "text/plain": [
       "'pwskills'"
      ]
     },
     "execution_count": 31,
     "metadata": {},
     "output_type": "execute_result"
    }
   ],
   "source": [
    "s"
   ]
  },
  {
   "cell_type": "code",
   "execution_count": 32,
   "id": "342e1280-4335-49e3-90d4-67f00047a205",
   "metadata": {},
   "outputs": [],
   "source": [
    "l.append(s)"
   ]
  },
  {
   "cell_type": "code",
   "execution_count": 33,
   "id": "5b85d260-837d-4c45-99c8-bd7935d7e526",
   "metadata": {},
   "outputs": [
    {
     "data": {
      "text/plain": [
       "[1, 345, 45, 'sudh', True, (3+4j), 345.456, 5, 'pwskills']"
      ]
     },
     "execution_count": 33,
     "metadata": {},
     "output_type": "execute_result"
    }
   ],
   "source": [
    "l"
   ]
  },
  {
   "cell_type": "code",
   "execution_count": 34,
   "id": "1fd53878-664e-41a3-a3e1-b2109f9f5dde",
   "metadata": {},
   "outputs": [],
   "source": [
    "l.append(ll)"
   ]
  },
  {
   "cell_type": "code",
   "execution_count": 35,
   "id": "9ecdb720-0248-4939-81f5-edcbbde79a6f",
   "metadata": {},
   "outputs": [
    {
     "data": {
      "text/plain": [
       "[1, 345, 45, 'sudh', True, (3+4j), 345.456, 5, 'pwskills', [3, 4, 5]]"
      ]
     },
     "execution_count": 35,
     "metadata": {},
     "output_type": "execute_result"
    }
   ],
   "source": [
    "l"
   ]
  },
  {
   "cell_type": "code",
   "execution_count": 39,
   "id": "bcb32f62-0bd3-4144-b5ce-eca7f34e1026",
   "metadata": {},
   "outputs": [
    {
     "data": {
      "text/plain": [
       "4"
      ]
     },
     "execution_count": 39,
     "metadata": {},
     "output_type": "execute_result"
    }
   ],
   "source": [
    "l[-1][1]"
   ]
  },
  {
   "cell_type": "code",
   "execution_count": 40,
   "id": "48442d06-9551-44c3-9494-c7647f1eddd4",
   "metadata": {},
   "outputs": [
    {
     "data": {
      "text/plain": [
       "[1, 345, 45, 'sudh', True, (3+4j), 345.456, 5, 'pwskills', [3, 4, 5]]"
      ]
     },
     "execution_count": 40,
     "metadata": {},
     "output_type": "execute_result"
    }
   ],
   "source": [
    "l"
   ]
  },
  {
   "cell_type": "code",
   "execution_count": 41,
   "id": "4275e27a-b525-445b-ba49-0378bbc813bc",
   "metadata": {},
   "outputs": [
    {
     "ename": "TypeError",
     "evalue": "'int' object is not iterable",
     "output_type": "error",
     "traceback": [
      "\u001b[0;31m---------------------------------------------------------------------------\u001b[0m",
      "\u001b[0;31mTypeError\u001b[0m                                 Traceback (most recent call last)",
      "Cell \u001b[0;32mIn[41], line 1\u001b[0m\n\u001b[0;32m----> 1\u001b[0m \u001b[43ml\u001b[49m\u001b[38;5;241;43m.\u001b[39;49m\u001b[43mextend\u001b[49m\u001b[43m(\u001b[49m\u001b[38;5;241;43m4\u001b[39;49m\u001b[43m)\u001b[49m\n",
      "\u001b[0;31mTypeError\u001b[0m: 'int' object is not iterable"
     ]
    }
   ],
   "source": [
    "l.extend(4)"
   ]
  },
  {
   "cell_type": "raw",
   "id": "22d8da85-e831-48eb-b0c4-1f8e65a999e6",
   "metadata": {},
   "source": [
    "I don't split int no."
   ]
  },
  {
   "cell_type": "code",
   "execution_count": 2,
   "id": "478ada3d-b50d-415f-961a-4700f56b9e90",
   "metadata": {},
   "outputs": [],
   "source": [
    "l = [1, 345, 45, 'sudh', True, 3+4j, 345.456, 5, 'pwskills', [3, 4, 5]]"
   ]
  },
  {
   "cell_type": "code",
   "execution_count": 3,
   "id": "18bdc31d-a7dd-426d-8cef-7bc908fd21f2",
   "metadata": {},
   "outputs": [
    {
     "data": {
      "text/plain": [
       "[1, 345, 45, 'sudh', True, (3+4j), 345.456, 5, 'pwskills', [3, 4, 5]]"
      ]
     },
     "execution_count": 3,
     "metadata": {},
     "output_type": "execute_result"
    }
   ],
   "source": [
    "l"
   ]
  },
  {
   "cell_type": "code",
   "execution_count": 4,
   "id": "8c41ca64-4372-4817-9d4e-c7315e8729ef",
   "metadata": {},
   "outputs": [],
   "source": [
    "l.extend('sudh')"
   ]
  },
  {
   "cell_type": "code",
   "execution_count": 5,
   "id": "f7ac4090-34b9-4797-bac7-9ad1b3da48e2",
   "metadata": {},
   "outputs": [
    {
     "data": {
      "text/plain": [
       "[1,\n",
       " 345,\n",
       " 45,\n",
       " 'sudh',\n",
       " True,\n",
       " (3+4j),\n",
       " 345.456,\n",
       " 5,\n",
       " 'pwskills',\n",
       " [3, 4, 5],\n",
       " 's',\n",
       " 'u',\n",
       " 'd',\n",
       " 'h']"
      ]
     },
     "execution_count": 5,
     "metadata": {},
     "output_type": "execute_result"
    }
   ],
   "source": [
    "l"
   ]
  },
  {
   "cell_type": "code",
   "execution_count": 6,
   "id": "8ee1e656-0b88-4afb-a2a0-4e279879abec",
   "metadata": {},
   "outputs": [],
   "source": [
    "l.extend([3,4,5])"
   ]
  },
  {
   "cell_type": "code",
   "execution_count": 7,
   "id": "01877e2b-eedd-49b4-8e9b-b5a7ebec1412",
   "metadata": {},
   "outputs": [
    {
     "data": {
      "text/plain": [
       "[1,\n",
       " 345,\n",
       " 45,\n",
       " 'sudh',\n",
       " True,\n",
       " (3+4j),\n",
       " 345.456,\n",
       " 5,\n",
       " 'pwskills',\n",
       " [3, 4, 5],\n",
       " 's',\n",
       " 'u',\n",
       " 'd',\n",
       " 'h',\n",
       " 3,\n",
       " 4,\n",
       " 5]"
      ]
     },
     "execution_count": 7,
     "metadata": {},
     "output_type": "execute_result"
    }
   ],
   "source": [
    "l"
   ]
  },
  {
   "cell_type": "code",
   "execution_count": 2,
   "id": "895ee677-eb22-4d14-81d4-7f73272f18e3",
   "metadata": {},
   "outputs": [],
   "source": [
    "l1 = [3,4,5,]"
   ]
  },
  {
   "cell_type": "code",
   "execution_count": 3,
   "id": "7d71c4a1-9c1b-4edd-a63a-9363d2ee9877",
   "metadata": {},
   "outputs": [
    {
     "data": {
      "text/plain": [
       "[3, 4, 5]"
      ]
     },
     "execution_count": 3,
     "metadata": {},
     "output_type": "execute_result"
    }
   ],
   "source": [
    "l1"
   ]
  },
  {
   "cell_type": "code",
   "execution_count": 4,
   "id": "251bae3c-1d3a-400d-ac35-b6a8479e740f",
   "metadata": {},
   "outputs": [],
   "source": [
    "l1.insert(1,\"sonu\")"
   ]
  },
  {
   "cell_type": "code",
   "execution_count": 5,
   "id": "ebce0b3d-efc6-43fd-8fbc-c65abd41b6c0",
   "metadata": {},
   "outputs": [
    {
     "data": {
      "text/plain": [
       "[3, 'sonu', 4, 5]"
      ]
     },
     "execution_count": 5,
     "metadata": {},
     "output_type": "execute_result"
    }
   ],
   "source": [
    "l1"
   ]
  },
  {
   "cell_type": "code",
   "execution_count": 6,
   "id": "2cde1fda-2ec6-479a-93b6-673f09623094",
   "metadata": {},
   "outputs": [],
   "source": [
    "l1.insert(2,2)"
   ]
  },
  {
   "cell_type": "code",
   "execution_count": 7,
   "id": "b73b19ad-2029-42cf-9074-41b3b9d02cac",
   "metadata": {},
   "outputs": [
    {
     "data": {
      "text/plain": [
       "[3, 'sonu', 2, 4, 5]"
      ]
     },
     "execution_count": 7,
     "metadata": {},
     "output_type": "execute_result"
    }
   ],
   "source": [
    "l1"
   ]
  },
  {
   "cell_type": "code",
   "execution_count": 11,
   "id": "ed156e76-cc09-4d96-bfde-2dd5e2ccf3bc",
   "metadata": {},
   "outputs": [],
   "source": [
    "l1.insert(1,[6,7,8])"
   ]
  },
  {
   "cell_type": "code",
   "execution_count": 12,
   "id": "36b42713-27ce-46e1-b481-de593774f120",
   "metadata": {},
   "outputs": [
    {
     "data": {
      "text/plain": [
       "[3, [6, 7, 8], [6, 7, 8], [6, 7, 8], 'sonu', 2, 4, 5]"
      ]
     },
     "execution_count": 12,
     "metadata": {},
     "output_type": "execute_result"
    }
   ],
   "source": [
    "l1"
   ]
  },
  {
   "cell_type": "code",
   "execution_count": 13,
   "id": "e7f76f33-800b-475d-9e66-dc82d250559e",
   "metadata": {},
   "outputs": [],
   "source": [
    "l1.insert(-1,45)"
   ]
  },
  {
   "cell_type": "code",
   "execution_count": 14,
   "id": "ea427ef2-5098-40d9-b7f1-28690b532077",
   "metadata": {},
   "outputs": [
    {
     "data": {
      "text/plain": [
       "[3, [6, 7, 8], [6, 7, 8], [6, 7, 8], 'sonu', 2, 4, 45, 5]"
      ]
     },
     "execution_count": 14,
     "metadata": {},
     "output_type": "execute_result"
    }
   ],
   "source": [
    "l1"
   ]
  },
  {
   "cell_type": "code",
   "execution_count": 15,
   "id": "72b8eb8e-97a2-417c-b91c-6ddb09adf42a",
   "metadata": {},
   "outputs": [],
   "source": [
    "l1.insert(0,45)"
   ]
  },
  {
   "cell_type": "code",
   "execution_count": 16,
   "id": "0ec6f8c3-4abc-483c-9e97-9a8243204f03",
   "metadata": {},
   "outputs": [
    {
     "data": {
      "text/plain": [
       "[45, 3, [6, 7, 8], [6, 7, 8], [6, 7, 8], 'sonu', 2, 4, 45, 5]"
      ]
     },
     "execution_count": 16,
     "metadata": {},
     "output_type": "execute_result"
    }
   ],
   "source": [
    "l1"
   ]
  },
  {
   "cell_type": "code",
   "execution_count": 4,
   "id": "dc6e310c-1f71-4d9e-85cf-49102df8cd89",
   "metadata": {},
   "outputs": [],
   "source": [
    "ll = [45, 3, [6, 7, 8], [6, 7, 8], [6, 7, 8], 'sonu', 2, 4, 45, 5]"
   ]
  },
  {
   "cell_type": "code",
   "execution_count": 6,
   "id": "08c8d3d7-4331-4d38-bc9c-4b8daa34c4ad",
   "metadata": {},
   "outputs": [
    {
     "data": {
      "text/plain": [
       "5"
      ]
     },
     "execution_count": 6,
     "metadata": {},
     "output_type": "execute_result"
    }
   ],
   "source": [
    "ll.pop()"
   ]
  },
  {
   "cell_type": "code",
   "execution_count": 7,
   "id": "40d9399e-050d-4399-974c-cccfabf81e23",
   "metadata": {},
   "outputs": [
    {
     "data": {
      "text/plain": [
       "[45, 3, [6, 7, 8], [6, 7, 8], [6, 7, 8], 'sonu', 2, 4, 45]"
      ]
     },
     "execution_count": 7,
     "metadata": {},
     "output_type": "execute_result"
    }
   ],
   "source": [
    "ll"
   ]
  },
  {
   "cell_type": "code",
   "execution_count": 8,
   "id": "3c5a140a-70c2-4bb3-bfa3-a1feb767ba6c",
   "metadata": {},
   "outputs": [
    {
     "data": {
      "text/plain": [
       "45"
      ]
     },
     "execution_count": 8,
     "metadata": {},
     "output_type": "execute_result"
    }
   ],
   "source": [
    "ll.pop()"
   ]
  },
  {
   "cell_type": "code",
   "execution_count": 9,
   "id": "d4801c39-b9ae-4e97-93ee-1833e604ac77",
   "metadata": {},
   "outputs": [
    {
     "data": {
      "text/plain": [
       "[45, 3, [6, 7, 8], [6, 7, 8], [6, 7, 8], 'sonu', 2, 4]"
      ]
     },
     "execution_count": 9,
     "metadata": {},
     "output_type": "execute_result"
    }
   ],
   "source": [
    "ll"
   ]
  },
  {
   "cell_type": "code",
   "execution_count": 10,
   "id": "adebf2f4-944a-4fe4-8813-fc1b6cfae8c4",
   "metadata": {},
   "outputs": [
    {
     "data": {
      "text/plain": [
       "[6, 7, 8]"
      ]
     },
     "execution_count": 10,
     "metadata": {},
     "output_type": "execute_result"
    }
   ],
   "source": [
    "ll.pop(2)"
   ]
  },
  {
   "cell_type": "code",
   "execution_count": 11,
   "id": "ba213408-1be0-45f1-a6ae-0577070e9d22",
   "metadata": {},
   "outputs": [
    {
     "data": {
      "text/plain": [
       "[45, 3, [6, 7, 8], [6, 7, 8], 'sonu', 2, 4]"
      ]
     },
     "execution_count": 11,
     "metadata": {},
     "output_type": "execute_result"
    }
   ],
   "source": [
    "ll"
   ]
  },
  {
   "cell_type": "code",
   "execution_count": 12,
   "id": "ad819d2e-ca6d-4bbe-a7e5-e8e67dc792dd",
   "metadata": {},
   "outputs": [
    {
     "data": {
      "text/plain": [
       "[45, 3, [6, 7, 8], [6, 7, 8], 'sonu', 2, 4]"
      ]
     },
     "execution_count": 12,
     "metadata": {},
     "output_type": "execute_result"
    }
   ],
   "source": [
    "ll"
   ]
  },
  {
   "cell_type": "code",
   "execution_count": 13,
   "id": "b0fd64d5-6da2-4d85-a559-2ee70a17c309",
   "metadata": {},
   "outputs": [],
   "source": [
    "ll.remove(3)"
   ]
  },
  {
   "cell_type": "code",
   "execution_count": 14,
   "id": "64e6810e-6f28-4688-83dc-00f87996104a",
   "metadata": {},
   "outputs": [
    {
     "data": {
      "text/plain": [
       "[45, [6, 7, 8], [6, 7, 8], 'sonu', 2, 4]"
      ]
     },
     "execution_count": 14,
     "metadata": {},
     "output_type": "execute_result"
    }
   ],
   "source": [
    "ll"
   ]
  },
  {
   "cell_type": "code",
   "execution_count": 16,
   "id": "66047ce5-d783-4c97-8b3a-4a2fa79dd735",
   "metadata": {},
   "outputs": [],
   "source": [
    "ll.remove(2)"
   ]
  },
  {
   "cell_type": "code",
   "execution_count": 17,
   "id": "5b227221-4772-44ad-a79f-bfece79ba5d1",
   "metadata": {},
   "outputs": [
    {
     "data": {
      "text/plain": [
       "[45, [6, 7, 8], [6, 7, 8], 'sonu', 4]"
      ]
     },
     "execution_count": 17,
     "metadata": {},
     "output_type": "execute_result"
    }
   ],
   "source": [
    "ll"
   ]
  },
  {
   "cell_type": "code",
   "execution_count": 18,
   "id": "73eaa472-40fd-4fca-8938-ecd7dddb1500",
   "metadata": {},
   "outputs": [],
   "source": [
    "ll[2].remove(7)"
   ]
  },
  {
   "cell_type": "code",
   "execution_count": 19,
   "id": "ee04b4aa-7597-4ebd-ac72-8a68b524f6e0",
   "metadata": {},
   "outputs": [
    {
     "data": {
      "text/plain": [
       "[45, [6, 7, 8], [6, 8], 'sonu', 4]"
      ]
     },
     "execution_count": 19,
     "metadata": {},
     "output_type": "execute_result"
    }
   ],
   "source": [
    "ll"
   ]
  },
  {
   "cell_type": "code",
   "execution_count": 26,
   "id": "5d93fcdd-9c04-47e0-8b7a-2e6d9b1b744c",
   "metadata": {},
   "outputs": [],
   "source": [
    "a1 = [45, [6, 7, 8], [6, 8], 'sonu', 4]"
   ]
  },
  {
   "cell_type": "code",
   "execution_count": 27,
   "id": "b2ec70b6-c655-4f13-acdd-4f4a9044dc96",
   "metadata": {},
   "outputs": [
    {
     "data": {
      "text/plain": [
       "6"
      ]
     },
     "execution_count": 27,
     "metadata": {},
     "output_type": "execute_result"
    }
   ],
   "source": [
    "a1[1].pop(0)"
   ]
  },
  {
   "cell_type": "code",
   "execution_count": 28,
   "id": "7196c993-7a6e-4a56-a54c-90112f85fb48",
   "metadata": {},
   "outputs": [
    {
     "data": {
      "text/plain": [
       "[45, [7, 8], [6, 8], 'sonu', 4]"
      ]
     },
     "execution_count": 28,
     "metadata": {},
     "output_type": "execute_result"
    }
   ],
   "source": [
    "a1"
   ]
  },
  {
   "cell_type": "code",
   "execution_count": 29,
   "id": "177047d8-a2dd-4fdd-98ed-0fc776476822",
   "metadata": {},
   "outputs": [],
   "source": [
    "a1 = a1[::-1]"
   ]
  },
  {
   "cell_type": "code",
   "execution_count": 30,
   "id": "0fbd98ed-7519-42dc-801a-385ff516787c",
   "metadata": {},
   "outputs": [
    {
     "data": {
      "text/plain": [
       "[4, 'sonu', [6, 8], [7, 8], 45]"
      ]
     },
     "execution_count": 30,
     "metadata": {},
     "output_type": "execute_result"
    }
   ],
   "source": [
    "a1"
   ]
  },
  {
   "cell_type": "code",
   "execution_count": 31,
   "id": "7f94bb22-5290-43fc-8124-7cfb25d9f86f",
   "metadata": {},
   "outputs": [],
   "source": [
    "a1.reverse()"
   ]
  },
  {
   "cell_type": "code",
   "execution_count": 32,
   "id": "ada39aec-fe13-452f-8c4b-25ad73486e86",
   "metadata": {},
   "outputs": [
    {
     "data": {
      "text/plain": [
       "[45, [7, 8], [6, 8], 'sonu', 4]"
      ]
     },
     "execution_count": 32,
     "metadata": {},
     "output_type": "execute_result"
    }
   ],
   "source": [
    "a1"
   ]
  },
  {
   "cell_type": "code",
   "execution_count": 33,
   "id": "a405b849-2fdb-4d09-af8c-590026ad6096",
   "metadata": {},
   "outputs": [
    {
     "data": {
      "text/plain": [
       "[45, [7, 8], [6, 8], 'sonu', 4]"
      ]
     },
     "execution_count": 33,
     "metadata": {},
     "output_type": "execute_result"
    }
   ],
   "source": [
    "a1"
   ]
  },
  {
   "cell_type": "code",
   "execution_count": 34,
   "id": "51bb55de-7873-41af-a857-b4683094fb22",
   "metadata": {},
   "outputs": [
    {
     "ename": "TypeError",
     "evalue": "'<' not supported between instances of 'list' and 'int'",
     "output_type": "error",
     "traceback": [
      "\u001b[0;31m---------------------------------------------------------------------------\u001b[0m",
      "\u001b[0;31mTypeError\u001b[0m                                 Traceback (most recent call last)",
      "Cell \u001b[0;32mIn[34], line 1\u001b[0m\n\u001b[0;32m----> 1\u001b[0m \u001b[43ma1\u001b[49m\u001b[38;5;241;43m.\u001b[39;49m\u001b[43msort\u001b[49m\u001b[43m(\u001b[49m\u001b[43m)\u001b[49m\n",
      "\u001b[0;31mTypeError\u001b[0m: '<' not supported between instances of 'list' and 'int'"
     ]
    }
   ],
   "source": [
    "a1.sort()"
   ]
  },
  {
   "cell_type": "code",
   "execution_count": 35,
   "id": "a553c6ba-3aa3-4f71-bc77-94e7eb651f39",
   "metadata": {},
   "outputs": [],
   "source": [
    "a2 = [24,25,582,2,3,4,50,28]"
   ]
  },
  {
   "cell_type": "code",
   "execution_count": 36,
   "id": "7cea5ee0-9345-43fb-994f-ad72c7a51e14",
   "metadata": {},
   "outputs": [],
   "source": [
    "a2.sort()"
   ]
  },
  {
   "cell_type": "code",
   "execution_count": 37,
   "id": "8928936a-1bfc-4e73-b136-305fc066b853",
   "metadata": {},
   "outputs": [
    {
     "data": {
      "text/plain": [
       "[2, 3, 4, 24, 25, 28, 50, 582]"
      ]
     },
     "execution_count": 37,
     "metadata": {},
     "output_type": "execute_result"
    }
   ],
   "source": [
    "a2"
   ]
  },
  {
   "cell_type": "code",
   "execution_count": 38,
   "id": "db50893b-24a9-4300-8e3b-541b8f4be2dc",
   "metadata": {},
   "outputs": [],
   "source": [
    "a3 = [34,\"sonu\" , 24,\"monu\" ,252,252]"
   ]
  },
  {
   "cell_type": "code",
   "execution_count": 39,
   "id": "17e2bf16-9b34-417e-9e87-fd43edb41760",
   "metadata": {},
   "outputs": [
    {
     "ename": "TypeError",
     "evalue": "'<' not supported between instances of 'str' and 'int'",
     "output_type": "error",
     "traceback": [
      "\u001b[0;31m---------------------------------------------------------------------------\u001b[0m",
      "\u001b[0;31mTypeError\u001b[0m                                 Traceback (most recent call last)",
      "Cell \u001b[0;32mIn[39], line 1\u001b[0m\n\u001b[0;32m----> 1\u001b[0m \u001b[43ma3\u001b[49m\u001b[38;5;241;43m.\u001b[39;49m\u001b[43msort\u001b[49m\u001b[43m(\u001b[49m\u001b[43m)\u001b[49m\n",
      "\u001b[0;31mTypeError\u001b[0m: '<' not supported between instances of 'str' and 'int'"
     ]
    }
   ],
   "source": [
    "a3.sort()"
   ]
  },
  {
   "cell_type": "code",
   "execution_count": 40,
   "id": "0c8da6c0-c0cf-4353-beda-936dbba386b0",
   "metadata": {},
   "outputs": [],
   "source": [
    "a4 = [\"monu\" , \"sonu\" , \"rinku\" , \"pinku\"]"
   ]
  },
  {
   "cell_type": "code",
   "execution_count": 41,
   "id": "c0e89b95-8673-4279-8b5e-c4f4bd24eff3",
   "metadata": {},
   "outputs": [],
   "source": [
    "a4.sort()"
   ]
  },
  {
   "cell_type": "code",
   "execution_count": 42,
   "id": "fa4a4049-1851-4bd3-8b7b-402be26f81a9",
   "metadata": {},
   "outputs": [
    {
     "data": {
      "text/plain": [
       "['monu', 'pinku', 'rinku', 'sonu']"
      ]
     },
     "execution_count": 42,
     "metadata": {},
     "output_type": "execute_result"
    }
   ],
   "source": [
    "a4"
   ]
  },
  {
   "cell_type": "raw",
   "id": "fd59ed66-dbfd-4c0f-b304-9e84254063ee",
   "metadata": {},
   "source": [
    "Alphabetical Adjust"
   ]
  },
  {
   "cell_type": "code",
   "execution_count": 43,
   "id": "9d38ac71-3f7b-4677-8f81-ff5ba1f31ecf",
   "metadata": {},
   "outputs": [],
   "source": [
    "a4.sort(reverse=True)"
   ]
  },
  {
   "cell_type": "code",
   "execution_count": 44,
   "id": "f7a6345b-0d93-4440-a7e6-8571ecfeee82",
   "metadata": {},
   "outputs": [
    {
     "data": {
      "text/plain": [
       "['sonu', 'rinku', 'pinku', 'monu']"
      ]
     },
     "execution_count": 44,
     "metadata": {},
     "output_type": "execute_result"
    }
   ],
   "source": [
    "a4"
   ]
  },
  {
   "cell_type": "raw",
   "id": "8d6a1d44-3cdc-44c1-a302-04b1af13de8e",
   "metadata": {},
   "source": [
    "Reverse Alphabetical Adjust"
   ]
  },
  {
   "cell_type": "code",
   "execution_count": 1,
   "id": "5a9f167c-57e6-4714-ab76-b4b42309440a",
   "metadata": {},
   "outputs": [],
   "source": [
    "s = \"sudh\""
   ]
  },
  {
   "cell_type": "code",
   "execution_count": 2,
   "id": "1213f1ac-a980-4407-a762-65ad319e6cbe",
   "metadata": {},
   "outputs": [
    {
     "ename": "TypeError",
     "evalue": "'str' object does not support item assignment",
     "output_type": "error",
     "traceback": [
      "\u001b[0;31m---------------------------------------------------------------------------\u001b[0m",
      "\u001b[0;31mTypeError\u001b[0m                                 Traceback (most recent call last)",
      "Cell \u001b[0;32mIn[2], line 1\u001b[0m\n\u001b[0;32m----> 1\u001b[0m \u001b[43ms\u001b[49m\u001b[43m[\u001b[49m\u001b[38;5;241;43m1\u001b[39;49m\u001b[43m]\u001b[49m \u001b[38;5;241m=\u001b[39m \u001b[38;5;124m\"\u001b[39m\u001b[38;5;124ma\u001b[39m\u001b[38;5;124m\"\u001b[39m\n",
      "\u001b[0;31mTypeError\u001b[0m: 'str' object does not support item assignment"
     ]
    }
   ],
   "source": [
    "s[1] = \"a\""
   ]
  },
  {
   "cell_type": "code",
   "execution_count": 3,
   "id": "986ee864-b6b4-44f8-8990-7f1e901c4c8c",
   "metadata": {},
   "outputs": [
    {
     "data": {
      "text/plain": [
       "'sadh'"
      ]
     },
     "execution_count": 3,
     "metadata": {},
     "output_type": "execute_result"
    }
   ],
   "source": [
    "s.replace(\"u\" ,\"a\")"
   ]
  },
  {
   "cell_type": "code",
   "execution_count": 4,
   "id": "4b352a4c-2382-43fe-bee5-00d4a0a90a68",
   "metadata": {},
   "outputs": [
    {
     "data": {
      "text/plain": [
       "'sudh'"
      ]
     },
     "execution_count": 4,
     "metadata": {},
     "output_type": "execute_result"
    }
   ],
   "source": [
    "s"
   ]
  },
  {
   "cell_type": "code",
   "execution_count": 5,
   "id": "2818dc42-e35a-4ac0-ae53-d60fe31d8413",
   "metadata": {},
   "outputs": [],
   "source": [
    "s = s.replace(\"u\" ,\"a\")"
   ]
  },
  {
   "cell_type": "code",
   "execution_count": 6,
   "id": "1a917a54-578d-454f-bef8-cf98263ca73a",
   "metadata": {},
   "outputs": [
    {
     "data": {
      "text/plain": [
       "'sadh'"
      ]
     },
     "execution_count": 6,
     "metadata": {},
     "output_type": "execute_result"
    }
   ],
   "source": [
    "s"
   ]
  },
  {
   "cell_type": "markdown",
   "id": "d68bd58b-0b05-452f-95c2-cba40c2af902",
   "metadata": {},
   "source": [
    "ALL ABOUT TUPLE"
   ]
  },
  {
   "cell_type": "code",
   "execution_count": 7,
   "id": "6d3da473-ea55-45e7-8b0a-c8a77b2a92dd",
   "metadata": {},
   "outputs": [],
   "source": [
    "z = (2,3,4,5,\"sudh\" , 45.56, False , 45+457j , [3,4,5])"
   ]
  },
  {
   "cell_type": "code",
   "execution_count": 8,
   "id": "e907bc6c-418b-41f9-9831-f1212f52ab27",
   "metadata": {},
   "outputs": [
    {
     "data": {
      "text/plain": [
       "tuple"
      ]
     },
     "execution_count": 8,
     "metadata": {},
     "output_type": "execute_result"
    }
   ],
   "source": [
    "type(z)"
   ]
  },
  {
   "cell_type": "code",
   "execution_count": 10,
   "id": "7f13231f-6fc0-4e1c-a8f7-9b6f4e913159",
   "metadata": {},
   "outputs": [
    {
     "data": {
      "text/plain": [
       "9"
      ]
     },
     "execution_count": 10,
     "metadata": {},
     "output_type": "execute_result"
    }
   ],
   "source": [
    "len(z)"
   ]
  },
  {
   "cell_type": "code",
   "execution_count": 11,
   "id": "452c87a0-7708-4657-b38f-e2ecf75edc00",
   "metadata": {},
   "outputs": [
    {
     "data": {
      "text/plain": [
       "2"
      ]
     },
     "execution_count": 11,
     "metadata": {},
     "output_type": "execute_result"
    }
   ],
   "source": [
    "z[0]"
   ]
  },
  {
   "cell_type": "code",
   "execution_count": 12,
   "id": "d9680ff5-9786-44f5-84ae-c73549b271c9",
   "metadata": {},
   "outputs": [
    {
     "data": {
      "text/plain": [
       "[3, 4, 5]"
      ]
     },
     "execution_count": 12,
     "metadata": {},
     "output_type": "execute_result"
    }
   ],
   "source": [
    "z[-1]"
   ]
  },
  {
   "cell_type": "code",
   "execution_count": 13,
   "id": "40a3cf31-d34b-42e0-b759-c43f63729c1c",
   "metadata": {},
   "outputs": [
    {
     "data": {
      "text/plain": [
       "([3, 4, 5], (45+457j), False, 45.56, 'sudh', 5, 4, 3, 2)"
      ]
     },
     "execution_count": 13,
     "metadata": {},
     "output_type": "execute_result"
    }
   ],
   "source": [
    "z[::-1]"
   ]
  },
  {
   "cell_type": "code",
   "execution_count": 15,
   "id": "e9cd6c2b-45db-49a7-9eab-0c902aba06b5",
   "metadata": {},
   "outputs": [],
   "source": [
    "a4 = ['sonu', 'rinku', 'pinku', 'monu']"
   ]
  },
  {
   "cell_type": "code",
   "execution_count": 17,
   "id": "90c922e6-d410-47a6-bff6-afad6a39b166",
   "metadata": {},
   "outputs": [],
   "source": [
    "a4[0] = 121"
   ]
  },
  {
   "cell_type": "code",
   "execution_count": 18,
   "id": "440eaac1-1d39-4cc1-803e-1ae1c6b05ad5",
   "metadata": {},
   "outputs": [
    {
     "data": {
      "text/plain": [
       "[121, 'rinku', 'pinku', 'monu']"
      ]
     },
     "execution_count": 18,
     "metadata": {},
     "output_type": "execute_result"
    }
   ],
   "source": [
    "a4"
   ]
  },
  {
   "cell_type": "code",
   "execution_count": 19,
   "id": "e82857e2-ec05-4e34-8d9e-4a0391b740c7",
   "metadata": {},
   "outputs": [
    {
     "data": {
      "text/plain": [
       "(2, 3, 4, 5, 'sudh', 45.56, False, (45+457j), [3, 4, 5])"
      ]
     },
     "execution_count": 19,
     "metadata": {},
     "output_type": "execute_result"
    }
   ],
   "source": [
    "z"
   ]
  },
  {
   "cell_type": "code",
   "execution_count": 20,
   "id": "afc99b79-bddb-4b7d-96f9-4a372e68cff0",
   "metadata": {},
   "outputs": [
    {
     "ename": "TypeError",
     "evalue": "'tuple' object does not support item assignment",
     "output_type": "error",
     "traceback": [
      "\u001b[0;31m---------------------------------------------------------------------------\u001b[0m",
      "\u001b[0;31mTypeError\u001b[0m                                 Traceback (most recent call last)",
      "Cell \u001b[0;32mIn[20], line 1\u001b[0m\n\u001b[0;32m----> 1\u001b[0m \u001b[43mz\u001b[49m\u001b[43m[\u001b[49m\u001b[38;5;241;43m0\u001b[39;49m\u001b[43m]\u001b[49m \u001b[38;5;241m=\u001b[39m \u001b[38;5;124m\"\u001b[39m\u001b[38;5;124mmonu\u001b[39m\u001b[38;5;124m\"\u001b[39m\n",
      "\u001b[0;31mTypeError\u001b[0m: 'tuple' object does not support item assignment"
     ]
    }
   ],
   "source": [
    "z[0] = \"monu\""
   ]
  },
  {
   "cell_type": "code",
   "execution_count": 21,
   "id": "59365471-638e-42bf-999b-812aee687968",
   "metadata": {},
   "outputs": [
    {
     "ename": "TypeError",
     "evalue": "'tuple' object does not support item assignment",
     "output_type": "error",
     "traceback": [
      "\u001b[0;31m---------------------------------------------------------------------------\u001b[0m",
      "\u001b[0;31mTypeError\u001b[0m                                 Traceback (most recent call last)",
      "Cell \u001b[0;32mIn[21], line 1\u001b[0m\n\u001b[0;32m----> 1\u001b[0m \u001b[43mz\u001b[49m\u001b[43m[\u001b[49m\u001b[38;5;241;43m0\u001b[39;49m\u001b[43m]\u001b[49m \u001b[38;5;241m=\u001b[39m \u001b[38;5;241m0\u001b[39m\n",
      "\u001b[0;31mTypeError\u001b[0m: 'tuple' object does not support item assignment"
     ]
    }
   ],
   "source": [
    "z[0] = 0"
   ]
  },
  {
   "cell_type": "code",
   "execution_count": 22,
   "id": "0e6da69b-8e4e-4fc7-9efb-b8e8938c52bc",
   "metadata": {},
   "outputs": [
    {
     "data": {
      "text/plain": [
       "(2, 3, 4, 5, 'sudh', 45.56, False, (45+457j), [3, 4, 5])"
      ]
     },
     "execution_count": 22,
     "metadata": {},
     "output_type": "execute_result"
    }
   ],
   "source": [
    "z"
   ]
  },
  {
   "cell_type": "code",
   "execution_count": 23,
   "id": "dd3797d0-aa39-444d-b7dc-2e2f565884ac",
   "metadata": {},
   "outputs": [
    {
     "data": {
      "text/plain": [
       "1"
      ]
     },
     "execution_count": 23,
     "metadata": {},
     "output_type": "execute_result"
    }
   ],
   "source": [
    "z.count(5)"
   ]
  },
  {
   "cell_type": "code",
   "execution_count": 24,
   "id": "671ea6c4-5d31-44c8-a14f-efd5e351788b",
   "metadata": {},
   "outputs": [
    {
     "data": {
      "text/plain": [
       "0"
      ]
     },
     "execution_count": 24,
     "metadata": {},
     "output_type": "execute_result"
    }
   ],
   "source": [
    "z.count(20)"
   ]
  },
  {
   "cell_type": "code",
   "execution_count": 25,
   "id": "31a7b0b9-55e1-4914-9319-2dee640d1579",
   "metadata": {},
   "outputs": [
    {
     "data": {
      "text/plain": [
       "6"
      ]
     },
     "execution_count": 25,
     "metadata": {},
     "output_type": "execute_result"
    }
   ],
   "source": [
    "z.index(False)"
   ]
  },
  {
   "cell_type": "markdown",
   "id": "785c845e-52f2-443a-99eb-e7375130ed80",
   "metadata": {},
   "source": [
    "ALL ABOUT SET"
   ]
  },
  {
   "cell_type": "code",
   "execution_count": 27,
   "id": "ec0a2449-cafe-4775-b980-8efe8febf2cc",
   "metadata": {},
   "outputs": [],
   "source": [
    "t = {}"
   ]
  },
  {
   "cell_type": "code",
   "execution_count": 28,
   "id": "20d4d0f8-b5d1-4771-886e-05ad80f7d113",
   "metadata": {},
   "outputs": [
    {
     "data": {
      "text/plain": [
       "dict"
      ]
     },
     "execution_count": 28,
     "metadata": {},
     "output_type": "execute_result"
    }
   ],
   "source": [
    "type(t)"
   ]
  },
  {
   "cell_type": "code",
   "execution_count": 29,
   "id": "08b71c18-aad7-4845-bffc-2d6ee77ee252",
   "metadata": {},
   "outputs": [],
   "source": [
    "t2 = {2,4,6,50,8}"
   ]
  },
  {
   "cell_type": "code",
   "execution_count": 31,
   "id": "8b1b67e6-bc1c-4cb0-9e21-f9dee9470770",
   "metadata": {},
   "outputs": [
    {
     "data": {
      "text/plain": [
       "set"
      ]
     },
     "execution_count": 31,
     "metadata": {},
     "output_type": "execute_result"
    }
   ],
   "source": [
    "type(t2)"
   ]
  },
  {
   "cell_type": "code",
   "execution_count": 32,
   "id": "de699f83-c757-4df3-be47-5e6743b34b0d",
   "metadata": {},
   "outputs": [],
   "source": [
    "s3 = {324,456,456, \"sudh\" , 45+45j ,34.465 , (3,4,5)}"
   ]
  },
  {
   "cell_type": "code",
   "execution_count": 33,
   "id": "26e0273f-8790-4983-bf5e-3976742ec9b6",
   "metadata": {},
   "outputs": [
    {
     "data": {
      "text/plain": [
       "{(3, 4, 5), (45+45j), 324, 34.465, 456, 'sudh'}"
      ]
     },
     "execution_count": 33,
     "metadata": {},
     "output_type": "execute_result"
    }
   ],
   "source": [
    "s3"
   ]
  },
  {
   "cell_type": "code",
   "execution_count": 34,
   "id": "08827a49-7565-4ea9-ab26-a1252923da9e",
   "metadata": {},
   "outputs": [],
   "source": [
    "s4 = {2,3,4,5,6,2,2,3,4,5,2,3,1,2,3,4,5,6,1,2,2,3, 'Sudh', 'sudh'}"
   ]
  },
  {
   "cell_type": "code",
   "execution_count": 35,
   "id": "5d354cb5-02d7-405a-a1d8-d082a4421e02",
   "metadata": {},
   "outputs": [
    {
     "data": {
      "text/plain": [
       "{1, 2, 3, 4, 5, 6, 'Sudh', 'sudh'}"
      ]
     },
     "execution_count": 35,
     "metadata": {},
     "output_type": "execute_result"
    }
   ],
   "source": [
    "s4"
   ]
  },
  {
   "cell_type": "raw",
   "id": "431ef171-618e-4f82-a884-b18bc497caed",
   "metadata": {},
   "source": [
    "capital letter - S  ,  small letter - s"
   ]
  },
  {
   "cell_type": "code",
   "execution_count": 36,
   "id": "00771667-c853-4089-b347-075a4dcaafd5",
   "metadata": {},
   "outputs": [],
   "source": [
    "s5 = {1, 2, 3, 4, 5, 6, 'Sudh', 'Sudh'}"
   ]
  },
  {
   "cell_type": "code",
   "execution_count": 37,
   "id": "7f0ef8e0-6774-4600-8d7b-f6a86622866a",
   "metadata": {},
   "outputs": [
    {
     "data": {
      "text/plain": [
       "{1, 2, 3, 4, 5, 6, 'Sudh'}"
      ]
     },
     "execution_count": 37,
     "metadata": {},
     "output_type": "execute_result"
    }
   ],
   "source": [
    "s5"
   ]
  },
  {
   "cell_type": "code",
   "execution_count": 47,
   "id": "bc40ed8e-3b08-48f9-8d03-2347eebba567",
   "metadata": {},
   "outputs": [],
   "source": [
    "l6 = [2,3,4,5,6,2,2,3,4,5,2,3,1,2,3,4,5,6,1,2,2,3, 'Sudh', 'sudh']"
   ]
  },
  {
   "cell_type": "code",
   "execution_count": 48,
   "id": "cab3bf04-9c89-4641-81b6-c8f672e19140",
   "metadata": {},
   "outputs": [],
   "source": [
    "l6 = list(set(l6))"
   ]
  },
  {
   "cell_type": "code",
   "execution_count": 49,
   "id": "7a1d6c48-f07b-4415-9306-ea583f505a2b",
   "metadata": {},
   "outputs": [
    {
     "data": {
      "text/plain": [
       "['Sudh', 1, 2, 3, 4, 5, 6, 'sudh']"
      ]
     },
     "execution_count": 49,
     "metadata": {},
     "output_type": "execute_result"
    }
   ],
   "source": [
    "l6"
   ]
  },
  {
   "cell_type": "code",
   "execution_count": 50,
   "id": "e9a76919-9458-459e-bba1-ba33594c3628",
   "metadata": {},
   "outputs": [],
   "source": [
    "s5 = {234,45,23,12,567,45,2,789,234,\"abc\", 456,342,23}"
   ]
  },
  {
   "cell_type": "code",
   "execution_count": 51,
   "id": "aee60f27-e881-49ab-a087-69a18fcdcfcf",
   "metadata": {},
   "outputs": [
    {
     "data": {
      "text/plain": [
       "{12, 2, 23, 234, 342, 45, 456, 567, 789, 'abc'}"
      ]
     },
     "execution_count": 51,
     "metadata": {},
     "output_type": "execute_result"
    }
   ],
   "source": [
    "s5"
   ]
  },
  {
   "cell_type": "code",
   "execution_count": 52,
   "id": "3760e41f-4be9-4b03-8703-f14fd7c1ad2b",
   "metadata": {},
   "outputs": [
    {
     "ename": "TypeError",
     "evalue": "'set' object is not subscriptable",
     "output_type": "error",
     "traceback": [
      "\u001b[0;31m---------------------------------------------------------------------------\u001b[0m",
      "\u001b[0;31mTypeError\u001b[0m                                 Traceback (most recent call last)",
      "Cell \u001b[0;32mIn[52], line 1\u001b[0m\n\u001b[0;32m----> 1\u001b[0m \u001b[43ms5\u001b[49m\u001b[43m[\u001b[49m\u001b[38;5;241;43m0\u001b[39;49m\u001b[43m]\u001b[49m\n",
      "\u001b[0;31mTypeError\u001b[0m: 'set' object is not subscriptable"
     ]
    }
   ],
   "source": [
    "s5[0]"
   ]
  },
  {
   "cell_type": "code",
   "execution_count": 53,
   "id": "fed30edc-3b3a-4643-bd3f-89187c500eb4",
   "metadata": {},
   "outputs": [
    {
     "ename": "TypeError",
     "evalue": "'set' object is not subscriptable",
     "output_type": "error",
     "traceback": [
      "\u001b[0;31m---------------------------------------------------------------------------\u001b[0m",
      "\u001b[0;31mTypeError\u001b[0m                                 Traceback (most recent call last)",
      "Cell \u001b[0;32mIn[53], line 1\u001b[0m\n\u001b[0;32m----> 1\u001b[0m \u001b[43ms5\u001b[49m\u001b[43m[\u001b[49m\u001b[43m:\u001b[49m\u001b[43m:\u001b[49m\u001b[38;5;241;43m-\u001b[39;49m\u001b[38;5;241;43m1\u001b[39;49m\u001b[43m]\u001b[49m\n",
      "\u001b[0;31mTypeError\u001b[0m: 'set' object is not subscriptable"
     ]
    }
   ],
   "source": [
    "s5[::-1]"
   ]
  },
  {
   "cell_type": "code",
   "execution_count": 54,
   "id": "b0236e8e-22ae-48c5-8c8d-de9f9af049a1",
   "metadata": {},
   "outputs": [
    {
     "data": {
      "text/plain": [
       "{12, 2, 23, 234, 342, 45, 456, 567, 789, 'abc'}"
      ]
     },
     "execution_count": 54,
     "metadata": {},
     "output_type": "execute_result"
    }
   ],
   "source": [
    "s5"
   ]
  },
  {
   "cell_type": "code",
   "execution_count": 55,
   "id": "848b8f83-ec17-46ca-947b-bbf99a41f7b4",
   "metadata": {},
   "outputs": [],
   "source": [
    "s5.add(4)"
   ]
  },
  {
   "cell_type": "code",
   "execution_count": 56,
   "id": "004481da-24b6-480d-b907-b4866c427c67",
   "metadata": {},
   "outputs": [
    {
     "data": {
      "text/plain": [
       "{12, 2, 23, 234, 342, 4, 45, 456, 567, 789, 'abc'}"
      ]
     },
     "execution_count": 56,
     "metadata": {},
     "output_type": "execute_result"
    }
   ],
   "source": [
    "s5"
   ]
  },
  {
   "cell_type": "code",
   "execution_count": 57,
   "id": "27141fea-e012-446c-89e2-e7a682983c0c",
   "metadata": {},
   "outputs": [],
   "source": [
    "s5.remove(2)"
   ]
  },
  {
   "cell_type": "code",
   "execution_count": 58,
   "id": "93f5645f-a826-412d-b703-7f8c2d142b70",
   "metadata": {},
   "outputs": [
    {
     "data": {
      "text/plain": [
       "{12, 23, 234, 342, 4, 45, 456, 567, 789, 'abc'}"
      ]
     },
     "execution_count": 58,
     "metadata": {},
     "output_type": "execute_result"
    }
   ],
   "source": [
    "s5"
   ]
  },
  {
   "cell_type": "code",
   "execution_count": null,
   "id": "4570dd95-8f20-4850-bfe1-eaa912ec6c1e",
   "metadata": {},
   "outputs": [],
   "source": []
  }
 ],
 "metadata": {
  "kernelspec": {
   "display_name": "Python 3 (ipykernel)",
   "language": "python",
   "name": "python3"
  },
  "language_info": {
   "codemirror_mode": {
    "name": "ipython",
    "version": 3
   },
   "file_extension": ".py",
   "mimetype": "text/x-python",
   "name": "python",
   "nbconvert_exporter": "python",
   "pygments_lexer": "ipython3",
   "version": "3.10.8"
  }
 },
 "nbformat": 4,
 "nbformat_minor": 5
}
