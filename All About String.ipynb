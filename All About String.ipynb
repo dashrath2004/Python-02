{
 "cells": [
  {
   "cell_type": "code",
   "execution_count": 1,
   "id": "7cbaf3a7-d3b0-46b9-b17e-079be3a7d597",
   "metadata": {},
   "outputs": [],
   "source": [
    "a = 5"
   ]
  },
  {
   "cell_type": "code",
   "execution_count": 2,
   "id": "287e8015-fe1a-4e84-a481-bb961987cca4",
   "metadata": {},
   "outputs": [],
   "source": [
    "b = 10"
   ]
  },
  {
   "cell_type": "code",
   "execution_count": 3,
   "id": "e1380fab-5eb0-4b23-9054-f194fdb75636",
   "metadata": {},
   "outputs": [
    {
     "data": {
      "text/plain": [
       "15"
      ]
     },
     "execution_count": 3,
     "metadata": {},
     "output_type": "execute_result"
    }
   ],
   "source": [
    "a+b"
   ]
  },
  {
   "cell_type": "code",
   "execution_count": 4,
   "id": "673cb1ca-9326-4d4f-b2c2-e733038074cb",
   "metadata": {},
   "outputs": [
    {
     "data": {
      "text/plain": [
       "5"
      ]
     },
     "execution_count": 4,
     "metadata": {},
     "output_type": "execute_result"
    }
   ],
   "source": [
    "b-a"
   ]
  },
  {
   "cell_type": "code",
   "execution_count": 5,
   "id": "93f3b3b1-74ce-470b-aad4-59f08d68a159",
   "metadata": {},
   "outputs": [
    {
     "name": "stdout",
     "output_type": "stream",
     "text": [
      "my name is dashrath singh\n"
     ]
    }
   ],
   "source": [
    "print('my name is dashrath singh')"
   ]
  },
  {
   "cell_type": "code",
   "execution_count": 6,
   "id": "1e937651-054f-4a30-a5d2-ed07108db1e9",
   "metadata": {},
   "outputs": [
    {
     "name": "stdout",
     "output_type": "stream",
     "text": [
      "15\n"
     ]
    }
   ],
   "source": [
    "print(a+b)"
   ]
  },
  {
   "cell_type": "code",
   "execution_count": 7,
   "id": "dd71dc2f-fb0b-454a-abe6-ba7a4f5e5c76",
   "metadata": {},
   "outputs": [],
   "source": [
    "s = 'pwskills'"
   ]
  },
  {
   "cell_type": "code",
   "execution_count": 8,
   "id": "43469f0e-6c61-4075-99dd-8bf0cfc968fa",
   "metadata": {},
   "outputs": [
    {
     "data": {
      "text/plain": [
       "str"
      ]
     },
     "execution_count": 8,
     "metadata": {},
     "output_type": "execute_result"
    }
   ],
   "source": [
    "type(s)"
   ]
  },
  {
   "cell_type": "code",
   "execution_count": 9,
   "id": "a293fa3f-ed43-4d1b-a41d-4ae106279df4",
   "metadata": {},
   "outputs": [
    {
     "data": {
      "text/plain": [
       "'w'"
      ]
     },
     "execution_count": 9,
     "metadata": {},
     "output_type": "execute_result"
    }
   ],
   "source": [
    "s[1]"
   ]
  },
  {
   "cell_type": "code",
   "execution_count": 10,
   "id": "36f37672-d1be-4313-a527-bffa55d850a1",
   "metadata": {},
   "outputs": [
    {
     "data": {
      "text/plain": [
       "'i'"
      ]
     },
     "execution_count": 10,
     "metadata": {},
     "output_type": "execute_result"
    }
   ],
   "source": [
    "s[-4]"
   ]
  },
  {
   "cell_type": "code",
   "execution_count": 11,
   "id": "69c41d64-d02b-40f0-ba35-bb3e776145bc",
   "metadata": {},
   "outputs": [
    {
     "data": {
      "text/plain": [
       "'pws'"
      ]
     },
     "execution_count": 11,
     "metadata": {},
     "output_type": "execute_result"
    }
   ],
   "source": [
    "s[0:3]"
   ]
  },
  {
   "cell_type": "code",
   "execution_count": 12,
   "id": "23f532f5-8281-446b-b23c-5b8cc2d41586",
   "metadata": {},
   "outputs": [
    {
     "data": {
      "text/plain": [
       "'psil'"
      ]
     },
     "execution_count": 12,
     "metadata": {},
     "output_type": "execute_result"
    }
   ],
   "source": [
    "s[0:8:2]"
   ]
  },
  {
   "cell_type": "code",
   "execution_count": 13,
   "id": "9337c083-94b3-4a96-a3fb-6ab0c8496703",
   "metadata": {},
   "outputs": [
    {
     "data": {
      "text/plain": [
       "'psil'"
      ]
     },
     "execution_count": 13,
     "metadata": {},
     "output_type": "execute_result"
    }
   ],
   "source": [
    "s[::2]"
   ]
  },
  {
   "cell_type": "code",
   "execution_count": 14,
   "id": "73a5a9b6-884e-452a-ba20-760c96af61b9",
   "metadata": {},
   "outputs": [
    {
     "data": {
      "text/plain": [
       "'sil'"
      ]
     },
     "execution_count": 14,
     "metadata": {},
     "output_type": "execute_result"
    }
   ],
   "source": [
    "s[2::2]"
   ]
  },
  {
   "cell_type": "code",
   "execution_count": 15,
   "id": "f0c934b0-a82b-46c0-a7b6-7c3cb8ad9888",
   "metadata": {},
   "outputs": [
    {
     "data": {
      "text/plain": [
       "'pwskills'"
      ]
     },
     "execution_count": 15,
     "metadata": {},
     "output_type": "execute_result"
    }
   ],
   "source": [
    "s[::1]"
   ]
  },
  {
   "cell_type": "code",
   "execution_count": 16,
   "id": "4f900fbf-e8d4-4dc6-9f77-fb31b5c94abf",
   "metadata": {},
   "outputs": [
    {
     "data": {
      "text/plain": [
       "'sllikswp'"
      ]
     },
     "execution_count": 16,
     "metadata": {},
     "output_type": "execute_result"
    }
   ],
   "source": [
    "s[::-1]"
   ]
  },
  {
   "cell_type": "code",
   "execution_count": 17,
   "id": "382ef121-2ba7-40ff-99d6-7daee78934df",
   "metadata": {},
   "outputs": [
    {
     "data": {
      "text/plain": [
       "'pwskills'"
      ]
     },
     "execution_count": 17,
     "metadata": {},
     "output_type": "execute_result"
    }
   ],
   "source": [
    "s"
   ]
  },
  {
   "cell_type": "code",
   "execution_count": 18,
   "id": "e9695d1e-5465-40a1-a656-efd4de8432a7",
   "metadata": {},
   "outputs": [
    {
     "data": {
      "text/plain": [
       "''"
      ]
     },
     "execution_count": 18,
     "metadata": {},
     "output_type": "execute_result"
    }
   ],
   "source": [
    "s[2:8:-1]"
   ]
  },
  {
   "cell_type": "code",
   "execution_count": 19,
   "id": "c4d14e11-26b0-4648-a541-d001b6453a92",
   "metadata": {},
   "outputs": [
    {
     "data": {
      "text/plain": [
       "''"
      ]
     },
     "execution_count": 19,
     "metadata": {},
     "output_type": "execute_result"
    }
   ],
   "source": [
    "s[8:0]"
   ]
  },
  {
   "cell_type": "code",
   "execution_count": 21,
   "id": "79e928f9-26c6-47a9-9638-8890777a310d",
   "metadata": {},
   "outputs": [
    {
     "data": {
      "text/plain": [
       "'pwskills'"
      ]
     },
     "execution_count": 21,
     "metadata": {},
     "output_type": "execute_result"
    }
   ],
   "source": [
    "s[0:8]"
   ]
  },
  {
   "cell_type": "code",
   "execution_count": 22,
   "id": "8638bf8d-1c2b-423d-aaea-ced55fc5cd2d",
   "metadata": {},
   "outputs": [
    {
     "data": {
      "text/plain": [
       "'sllikswp'"
      ]
     },
     "execution_count": 22,
     "metadata": {},
     "output_type": "execute_result"
    }
   ],
   "source": [
    "s[8::-1]"
   ]
  },
  {
   "cell_type": "code",
   "execution_count": 23,
   "id": "c518f04e-4604-4863-8fbe-233ed2b776ea",
   "metadata": {},
   "outputs": [
    {
     "data": {
      "text/plain": [
       "'lliksw'"
      ]
     },
     "execution_count": 23,
     "metadata": {},
     "output_type": "execute_result"
    }
   ],
   "source": [
    "s[-2:-8:-1]"
   ]
  },
  {
   "cell_type": "code",
   "execution_count": 24,
   "id": "9698f989-4fca-4e63-8e70-2cfb4bd30537",
   "metadata": {},
   "outputs": [
    {
     "data": {
      "text/plain": [
       "'sllikswp'"
      ]
     },
     "execution_count": 24,
     "metadata": {},
     "output_type": "execute_result"
    }
   ],
   "source": [
    "s[-1::-1]"
   ]
  },
  {
   "cell_type": "code",
   "execution_count": 25,
   "id": "20855eaf-1eb1-40cd-abc1-5d9d66da3292",
   "metadata": {},
   "outputs": [
    {
     "data": {
      "text/plain": [
       "''"
      ]
     },
     "execution_count": 25,
     "metadata": {},
     "output_type": "execute_result"
    }
   ],
   "source": [
    "s[:-80:]"
   ]
  },
  {
   "cell_type": "code",
   "execution_count": 26,
   "id": "df252323-229b-4060-9163-c12f688c4faa",
   "metadata": {},
   "outputs": [
    {
     "ename": "IndexError",
     "evalue": "string index out of range",
     "output_type": "error",
     "traceback": [
      "\u001b[0;31m---------------------------------------------------------------------------\u001b[0m",
      "\u001b[0;31mIndexError\u001b[0m                                Traceback (most recent call last)",
      "Cell \u001b[0;32mIn[26], line 1\u001b[0m\n\u001b[0;32m----> 1\u001b[0m \u001b[43ms\u001b[49m\u001b[43m[\u001b[49m\u001b[38;5;241;43m80\u001b[39;49m\u001b[43m]\u001b[49m\n",
      "\u001b[0;31mIndexError\u001b[0m: string index out of range"
     ]
    }
   ],
   "source": [
    "s[80]"
   ]
  },
  {
   "cell_type": "code",
   "execution_count": 27,
   "id": "85938e4a-59f1-460e-b016-c2079f8d0bab",
   "metadata": {},
   "outputs": [
    {
     "data": {
      "text/plain": [
       "'sllikswp'"
      ]
     },
     "execution_count": 27,
     "metadata": {},
     "output_type": "execute_result"
    }
   ],
   "source": [
    "s[:-800:-1]"
   ]
  },
  {
   "cell_type": "code",
   "execution_count": 28,
   "id": "dedcbc07-d3e3-4d1f-8b7a-16aad2393233",
   "metadata": {},
   "outputs": [],
   "source": [
    "c = 200"
   ]
  },
  {
   "cell_type": "code",
   "execution_count": 29,
   "id": "7f4f6129-7536-423a-b547-86986742f7e9",
   "metadata": {},
   "outputs": [
    {
     "ename": "TypeError",
     "evalue": "'int' object is not subscriptable",
     "output_type": "error",
     "traceback": [
      "\u001b[0;31m---------------------------------------------------------------------------\u001b[0m",
      "\u001b[0;31mTypeError\u001b[0m                                 Traceback (most recent call last)",
      "Cell \u001b[0;32mIn[29], line 1\u001b[0m\n\u001b[0;32m----> 1\u001b[0m \u001b[43mc\u001b[49m\u001b[43m[\u001b[49m\u001b[38;5;241;43m1\u001b[39;49m\u001b[43m]\u001b[49m\n",
      "\u001b[0;31mTypeError\u001b[0m: 'int' object is not subscriptable"
     ]
    }
   ],
   "source": [
    "c[1]"
   ]
  },
  {
   "cell_type": "code",
   "execution_count": 30,
   "id": "140c572e-a5a8-4140-a4b8-cfdfafd035aa",
   "metadata": {},
   "outputs": [],
   "source": [
    "d = \"200\""
   ]
  },
  {
   "cell_type": "code",
   "execution_count": 31,
   "id": "0a13d1df-0c86-44e4-8658-9fa841fa56b4",
   "metadata": {},
   "outputs": [
    {
     "data": {
      "text/plain": [
       "'0'"
      ]
     },
     "execution_count": 31,
     "metadata": {},
     "output_type": "execute_result"
    }
   ],
   "source": [
    "d[1]"
   ]
  },
  {
   "cell_type": "code",
   "execution_count": 33,
   "id": "ea638775-249b-4a22-98c9-a1e9489f37a0",
   "metadata": {},
   "outputs": [
    {
     "data": {
      "text/plain": [
       "'2'"
      ]
     },
     "execution_count": 33,
     "metadata": {},
     "output_type": "execute_result"
    }
   ],
   "source": [
    "d[-3]"
   ]
  },
  {
   "cell_type": "code",
   "execution_count": 34,
   "id": "25e8b14d-c27e-4dc9-b7ae-49c0b9e5b095",
   "metadata": {},
   "outputs": [],
   "source": [
    "m1 = 'this is my first string class'"
   ]
  },
  {
   "cell_type": "code",
   "execution_count": 36,
   "id": "ee762f01-3b40-454d-8b28-c39048bf18ce",
   "metadata": {},
   "outputs": [
    {
     "data": {
      "text/plain": [
       "29"
      ]
     },
     "execution_count": 36,
     "metadata": {},
     "output_type": "execute_result"
    }
   ],
   "source": [
    "len(m1)"
   ]
  },
  {
   "cell_type": "code",
   "execution_count": 39,
   "id": "87bfc64b-1b57-4004-aade-1c86a46e07b5",
   "metadata": {},
   "outputs": [
    {
     "data": {
      "text/plain": [
       "3"
      ]
     },
     "execution_count": 39,
     "metadata": {},
     "output_type": "execute_result"
    }
   ],
   "source": [
    "m1.find('s')"
   ]
  },
  {
   "cell_type": "code",
   "execution_count": 40,
   "id": "e1b9c832-dc10-436d-90cf-4b4cc4db42b2",
   "metadata": {},
   "outputs": [
    {
     "data": {
      "text/plain": [
       "2"
      ]
     },
     "execution_count": 40,
     "metadata": {},
     "output_type": "execute_result"
    }
   ],
   "source": [
    "m1.find('i')"
   ]
  },
  {
   "cell_type": "code",
   "execution_count": 41,
   "id": "846b1e8a-2fd9-492e-a6d1-d2e2ecfddb16",
   "metadata": {},
   "outputs": [
    {
     "data": {
      "text/plain": [
       "2"
      ]
     },
     "execution_count": 41,
     "metadata": {},
     "output_type": "execute_result"
    }
   ],
   "source": [
    "m1.find('is')"
   ]
  },
  {
   "cell_type": "code",
   "execution_count": 43,
   "id": "ddde73f1-29d3-48b5-b658-5e50599f9c7c",
   "metadata": {},
   "outputs": [
    {
     "data": {
      "text/plain": [
       "-1"
      ]
     },
     "execution_count": 43,
     "metadata": {},
     "output_type": "execute_result"
    }
   ],
   "source": [
    "m1.find('iS')"
   ]
  },
  {
   "cell_type": "code",
   "execution_count": 44,
   "id": "a7d97438-12d5-40a0-af5b-7f44e016f02a",
   "metadata": {},
   "outputs": [
    {
     "data": {
      "text/plain": [
       "-1"
      ]
     },
     "execution_count": 44,
     "metadata": {},
     "output_type": "execute_result"
    }
   ],
   "source": [
    "m1.find('mY')"
   ]
  },
  {
   "cell_type": "code",
   "execution_count": 45,
   "id": "6a25cb79-adcd-44e7-a6f7-f6c4f3258a63",
   "metadata": {},
   "outputs": [
    {
     "data": {
      "text/plain": [
       "6"
      ]
     },
     "execution_count": 45,
     "metadata": {},
     "output_type": "execute_result"
    }
   ],
   "source": [
    "m1.count('s')"
   ]
  },
  {
   "cell_type": "code",
   "execution_count": 46,
   "id": "b1f371b5-c93f-43c1-924b-fa66b5a7c300",
   "metadata": {},
   "outputs": [
    {
     "data": {
      "text/plain": [
       "2"
      ]
     },
     "execution_count": 46,
     "metadata": {},
     "output_type": "execute_result"
    }
   ],
   "source": [
    "m1.count('is')"
   ]
  },
  {
   "cell_type": "code",
   "execution_count": 47,
   "id": "9540f300-a6da-4e2a-8bb2-f5ebbfd0e4c0",
   "metadata": {},
   "outputs": [
    {
     "data": {
      "text/plain": [
       "0"
      ]
     },
     "execution_count": 47,
     "metadata": {},
     "output_type": "execute_result"
    }
   ],
   "source": [
    "m1.count('z')"
   ]
  },
  {
   "cell_type": "code",
   "execution_count": 48,
   "id": "d941d4c3-6b73-4e86-afe5-23eaa0321b97",
   "metadata": {},
   "outputs": [
    {
     "data": {
      "text/plain": [
       "'this is my first string class'"
      ]
     },
     "execution_count": 48,
     "metadata": {},
     "output_type": "execute_result"
    }
   ],
   "source": [
    "m1"
   ]
  },
  {
   "cell_type": "code",
   "execution_count": 49,
   "id": "8b18a26a-aee6-4bde-ba86-8758df3c8b95",
   "metadata": {},
   "outputs": [
    {
     "data": {
      "text/plain": [
       "'THIS IS MY FIRST STRING CLASS'"
      ]
     },
     "execution_count": 49,
     "metadata": {},
     "output_type": "execute_result"
    }
   ],
   "source": [
    "m1.upper()"
   ]
  },
  {
   "cell_type": "code",
   "execution_count": 50,
   "id": "37256c3b-d3c2-4ab6-a6c2-8ff06be46cda",
   "metadata": {},
   "outputs": [],
   "source": [
    "m2 = 'THIS IS MY FIRST STRING CLASS'"
   ]
  },
  {
   "cell_type": "code",
   "execution_count": 51,
   "id": "bd1c3342-089a-4c82-a354-59a5e3de0d40",
   "metadata": {},
   "outputs": [
    {
     "data": {
      "text/plain": [
       "'this is my first string class'"
      ]
     },
     "execution_count": 51,
     "metadata": {},
     "output_type": "execute_result"
    }
   ],
   "source": [
    "m2.lower()"
   ]
  },
  {
   "cell_type": "code",
   "execution_count": 52,
   "id": "e708bf03-829c-4da0-be30-de5882319132",
   "metadata": {},
   "outputs": [
    {
     "data": {
      "text/plain": [
       "'this is my first string class'"
      ]
     },
     "execution_count": 52,
     "metadata": {},
     "output_type": "execute_result"
    }
   ],
   "source": [
    "m1"
   ]
  },
  {
   "cell_type": "code",
   "execution_count": 53,
   "id": "2789b76a-6480-41c3-afb8-4ab50cf6aaec",
   "metadata": {},
   "outputs": [
    {
     "data": {
      "text/plain": [
       "'This Is My First String Class'"
      ]
     },
     "execution_count": 53,
     "metadata": {},
     "output_type": "execute_result"
    }
   ],
   "source": [
    "m1.title()"
   ]
  },
  {
   "cell_type": "code",
   "execution_count": 55,
   "id": "3bf8e1a0-082f-495c-bc1f-17748841d77a",
   "metadata": {},
   "outputs": [
    {
     "data": {
      "text/plain": [
       "'This is my first string class'"
      ]
     },
     "execution_count": 55,
     "metadata": {},
     "output_type": "execute_result"
    }
   ],
   "source": [
    "m1.capitalize"
   ]
  },
  {
   "cell_type": "code",
   "execution_count": 56,
   "id": "d2e19162-dc2d-44e5-810a-98774327ab06",
   "metadata": {},
   "outputs": [
    {
     "data": {
      "text/plain": [
       "'pwskills'"
      ]
     },
     "execution_count": 56,
     "metadata": {},
     "output_type": "execute_result"
    }
   ],
   "source": [
    "s"
   ]
  },
  {
   "cell_type": "code",
   "execution_count": 57,
   "id": "25374948-a9a7-4278-848b-6707dcbf0596",
   "metadata": {},
   "outputs": [
    {
     "ename": "TypeError",
     "evalue": "can only concatenate str (not \"int\") to str",
     "output_type": "error",
     "traceback": [
      "\u001b[0;31m---------------------------------------------------------------------------\u001b[0m",
      "\u001b[0;31mTypeError\u001b[0m                                 Traceback (most recent call last)",
      "Cell \u001b[0;32mIn[57], line 1\u001b[0m\n\u001b[0;32m----> 1\u001b[0m \u001b[43ms\u001b[49m\u001b[38;5;241;43m+\u001b[39;49m\u001b[38;5;241;43m1\u001b[39;49m\n",
      "\u001b[0;31mTypeError\u001b[0m: can only concatenate str (not \"int\") to str"
     ]
    }
   ],
   "source": [
    "s+1"
   ]
  },
  {
   "cell_type": "code",
   "execution_count": 58,
   "id": "d7ba17b8-b634-4aa8-aecb-39a51a9cc503",
   "metadata": {},
   "outputs": [
    {
     "data": {
      "text/plain": [
       "'pwskillswith me'"
      ]
     },
     "execution_count": 58,
     "metadata": {},
     "output_type": "execute_result"
    }
   ],
   "source": [
    "s+'with me'"
   ]
  },
  {
   "cell_type": "code",
   "execution_count": 59,
   "id": "d3a70d64-fb71-4e0a-9f6b-744de185c5c0",
   "metadata": {},
   "outputs": [
    {
     "data": {
      "text/plain": [
       "'pwskills1'"
      ]
     },
     "execution_count": 59,
     "metadata": {},
     "output_type": "execute_result"
    }
   ],
   "source": [
    "s + '1'"
   ]
  },
  {
   "cell_type": "code",
   "execution_count": 60,
   "id": "9e5ef874-3f5d-4dc5-a1bc-40ea93601aac",
   "metadata": {},
   "outputs": [
    {
     "data": {
      "text/plain": [
       "'pwskills1'"
      ]
     },
     "execution_count": 60,
     "metadata": {},
     "output_type": "execute_result"
    }
   ],
   "source": [
    "s + str(1)"
   ]
  },
  {
   "cell_type": "code",
   "execution_count": 61,
   "id": "8fe3ec4d-4fb7-4a3e-ba4e-e16c71f372d9",
   "metadata": {},
   "outputs": [
    {
     "data": {
      "text/plain": [
       "'monumonumonu'"
      ]
     },
     "execution_count": 61,
     "metadata": {},
     "output_type": "execute_result"
    }
   ],
   "source": [
    "'monu'*3"
   ]
  },
  {
   "cell_type": "code",
   "execution_count": 62,
   "id": "1c6441b3-2f3b-4574-a9bd-a8e8de7d7d80",
   "metadata": {},
   "outputs": [
    {
     "ename": "TypeError",
     "evalue": "unsupported operand type(s) for /: 'str' and 'int'",
     "output_type": "error",
     "traceback": [
      "\u001b[0;31m---------------------------------------------------------------------------\u001b[0m",
      "\u001b[0;31mTypeError\u001b[0m                                 Traceback (most recent call last)",
      "Cell \u001b[0;32mIn[62], line 1\u001b[0m\n\u001b[0;32m----> 1\u001b[0m \u001b[38;5;124;43m'\u001b[39;49m\u001b[38;5;124;43mmonu\u001b[39;49m\u001b[38;5;124;43m'\u001b[39;49m\u001b[38;5;241;43m/\u001b[39;49m\u001b[38;5;241;43m3\u001b[39;49m\n",
      "\u001b[0;31mTypeError\u001b[0m: unsupported operand type(s) for /: 'str' and 'int'"
     ]
    }
   ],
   "source": [
    "'monu'/3"
   ]
  },
  {
   "cell_type": "code",
   "execution_count": 63,
   "id": "e7cb43fc-2f46-4d62-a85d-20c3c55c0ab9",
   "metadata": {},
   "outputs": [
    {
     "ename": "SyntaxError",
     "evalue": "unterminated string literal (detected at line 1) (3233583658.py, line 1)",
     "output_type": "error",
     "traceback": [
      "\u001b[0;36m  Cell \u001b[0;32mIn[63], line 1\u001b[0;36m\u001b[0m\n\u001b[0;31m    'don't disturb me'\u001b[0m\n\u001b[0m                     ^\u001b[0m\n\u001b[0;31mSyntaxError\u001b[0m\u001b[0;31m:\u001b[0m unterminated string literal (detected at line 1)\n"
     ]
    }
   ],
   "source": [
    "'don't disturb me'"
   ]
  },
  {
   "cell_type": "code",
   "execution_count": 1,
   "id": "49dcd223-0038-43d0-a76a-b27b89cf2e2c",
   "metadata": {},
   "outputs": [
    {
     "data": {
      "text/plain": [
       "\"don't disturb me\""
      ]
     },
     "execution_count": 1,
     "metadata": {},
     "output_type": "execute_result"
    }
   ],
   "source": [
    "\"don't disturb me\""
   ]
  },
  {
   "cell_type": "code",
   "execution_count": 2,
   "id": "6073d1cb-9f9a-4438-ad58-3873ee080d33",
   "metadata": {},
   "outputs": [
    {
     "data": {
      "text/plain": [
       "'dont disturb me'"
      ]
     },
     "execution_count": 2,
     "metadata": {},
     "output_type": "execute_result"
    }
   ],
   "source": [
    "'don''t disturb me'"
   ]
  },
  {
   "cell_type": "code",
   "execution_count": 6,
   "id": "2eedbf3b-8959-4f42-b89a-8ab52f8097ad",
   "metadata": {},
   "outputs": [],
   "source": [
    " # this is week 02 frist class"
   ]
  },
  {
   "cell_type": "code",
   "execution_count": 7,
   "id": "69627715-3bd0-4ddf-852b-c40bbdeb3f52",
   "metadata": {},
   "outputs": [],
   "source": [
    "p2 = \"\"\"my name is dashrath singh rajawat\n",
    "my village name is ranoli\n",
    "i am purchase a new computer for coding\"\"\"\n"
   ]
  },
  {
   "cell_type": "code",
   "execution_count": 8,
   "id": "5380dcbb-c5f2-41a3-b4e7-62231c81baa9",
   "metadata": {},
   "outputs": [
    {
     "data": {
      "text/plain": [
       "'my name is dashrath singh rajawat\\nmy village name is ranoli\\ni am purchase a new computer for coding'"
      ]
     },
     "execution_count": 8,
     "metadata": {},
     "output_type": "execute_result"
    }
   ],
   "source": [
    "p2"
   ]
  },
  {
   "cell_type": "code",
   "execution_count": null,
   "id": "5763b8d3-fbda-48d7-a3b9-618c3a9bf676",
   "metadata": {},
   "outputs": [],
   "source": []
  }
 ],
 "metadata": {
  "kernelspec": {
   "display_name": "Python 3 (ipykernel)",
   "language": "python",
   "name": "python3"
  },
  "language_info": {
   "codemirror_mode": {
    "name": "ipython",
    "version": 3
   },
   "file_extension": ".py",
   "mimetype": "text/x-python",
   "name": "python",
   "nbconvert_exporter": "python",
   "pygments_lexer": "ipython3",
   "version": "3.10.8"
  }
 },
 "nbformat": 4,
 "nbformat_minor": 5
}
